{
  "cells": [
    {
      "cell_type": "markdown",
      "metadata": {
        "id": "ptr-OhynLShE"
      },
      "source": [
        "# **Assignment 01:  Traffic Sign Classification**"
      ]
    },
    {
      "cell_type": "markdown",
      "metadata": {
        "id": "GaAsgjIdhyMN"
      },
      "source": [
        " Importing the Required Librarires\n"
      ]
    },
    {
      "cell_type": "code",
      "execution_count": 65,
      "metadata": {
        "id": "v8zJXbBBKrNe"
      },
      "outputs": [],
      "source": [
        "import cv2\n",
        "import numpy as np \n",
        "import os\n",
        "from sklearn.cluster import KMeans\n",
        "from sklearn.svm import SVC\n",
        "from sklearn.preprocessing import StandardScaler\n",
        "from matplotlib import pyplot as plt\n",
        "from sklearn import svm, datasets\n",
        "from sklearn.model_selection import train_test_split\n",
        "from sklearn.metrics import confusion_matrix\n",
        "from sklearn.utils.multiclass import unique_labels\n",
        "from sklearn.metrics.pairwise import chi2_kernel\n",
        "from sklearn.model_selection import GridSearchCV\n",
        "from sklearn.metrics import accuracy_score\n",
        "import time\n",
        "import csv\n",
        "import os\n",
        "import pandas as pd\n",
        "from numpy import genfromtxt\n",
        "from google.colab.patches import cv2_imshow\n",
        "from scipy import stats\n",
        "import matplotlib.pyplot as plt\n",
        "from scipy.cluster.vq import kmeans,vq\n",
        "from sklearn.svm import LinearSVC\n",
        "from scipy.cluster.vq import vq\n",
        "from texttable import Texttable\n",
        "from sklearn.tree import DecisionTreeClassifier\n",
        "import argparse\n",
        "from sklearn.metrics import f1_score\n",
        "from sklearn.metrics import precision_score\n",
        "from sklearn.metrics import recall_score\n",
        "import sklearn\n",
        "from sklearn.ensemble import AdaBoostClassifier\n",
        "\n",
        "from sklearn.cluster import KMeans"
      ]
    },
    {
      "cell_type": "markdown",
      "metadata": {
        "id": "PDMZOeQeLnvY"
      },
      "source": [
        "Extracting data from DataSet \"CS67_Fall2022_ A1_Dataset.zip\""
      ]
    },
    {
      "cell_type": "code",
      "execution_count": null,
      "metadata": {
        "colab": {
          "base_uri": "https://localhost:8080/"
        },
        "id": "IO-ITBbl001i",
        "outputId": "a20fdb41-a24e-4007-e50d-70ed82fbf3d7"
      },
      "outputs": [
        {
          "output_type": "stream",
          "name": "stdout",
          "text": [
            "Archive:  /content/CS67_Fall2022_ A1_Dataset.zip\n",
            "replace /content/New_data/00001/00025_00000.ppm? [y]es, [n]o, [A]ll, [N]one, [r]ename: A\n",
            "  inflating: /content/New_data/00001/00025_00000.ppm  \n",
            "  inflating: /content/New_data/00001/00025_00001.ppm  \n",
            "  inflating: /content/New_data/00001/00025_00002.ppm  \n",
            "  inflating: /content/New_data/00001/00029_00000.ppm  \n",
            "  inflating: /content/New_data/00001/00029_00001.ppm  \n",
            "  inflating: /content/New_data/00001/00029_00002.ppm  \n",
            "  inflating: /content/New_data/00001/00079_00000.ppm  \n",
            "  inflating: /content/New_data/00001/00079_00001.ppm  \n",
            "  inflating: /content/New_data/00001/00079_00002.ppm  \n",
            "  inflating: /content/New_data/00001/00136_00000.ppm  \n",
            "  inflating: /content/New_data/00001/00136_00001.ppm  \n",
            "  inflating: /content/New_data/00001/00136_00002.ppm  \n",
            "  inflating: /content/New_data/00001/00143_00000.ppm  \n",
            "  inflating: /content/New_data/00001/00143_00001.ppm  \n",
            "  inflating: /content/New_data/00001/00143_00002.ppm  \n",
            "  inflating: /content/New_data/00001/00455_00000.ppm  \n",
            "  inflating: /content/New_data/00001/00455_00001.ppm  \n",
            "  inflating: /content/New_data/00001/00455_00002.ppm  \n",
            "  inflating: /content/New_data/00001/00468_00000.ppm  \n",
            "  inflating: /content/New_data/00001/00468_00001.ppm  \n",
            "  inflating: /content/New_data/00001/00468_00002.ppm  \n",
            "  inflating: /content/New_data/00001/00475_00000.ppm  \n",
            "  inflating: /content/New_data/00001/00475_00001.ppm  \n",
            "  inflating: /content/New_data/00001/00475_00002.ppm  \n",
            "  inflating: /content/New_data/00001/00801_00000.ppm  \n",
            "  inflating: /content/New_data/00001/00801_00001.ppm  \n",
            "  inflating: /content/New_data/00001/00801_00002.ppm  \n",
            "  inflating: /content/New_data/00001/00806_00000.ppm  \n",
            "  inflating: /content/New_data/00001/00806_00001.ppm  \n",
            "  inflating: /content/New_data/00001/00806_00002.ppm  \n",
            "  inflating: /content/New_data/00001/00874_00000.ppm  \n",
            "  inflating: /content/New_data/00001/00874_00001.ppm  \n",
            "  inflating: /content/New_data/00001/00874_00002.ppm  \n",
            "  inflating: /content/New_data/00001/00876_00000.ppm  \n",
            "  inflating: /content/New_data/00001/00876_00001.ppm  \n",
            "  inflating: /content/New_data/00001/00876_00002.ppm  \n",
            "  inflating: /content/New_data/00001/00877_00000.ppm  \n",
            "  inflating: /content/New_data/00001/00877_00001.ppm  \n",
            "  inflating: /content/New_data/00001/00877_00002.ppm  \n",
            "  inflating: /content/New_data/00001/00881_00000.ppm  \n",
            "  inflating: /content/New_data/00001/00881_00001.ppm  \n",
            "  inflating: /content/New_data/00001/00881_00002.ppm  \n",
            "  inflating: /content/New_data/00001/00897_00000.ppm  \n",
            "  inflating: /content/New_data/00001/00897_00001.ppm  \n",
            "  inflating: /content/New_data/00001/00897_00002.ppm  \n",
            "  inflating: /content/New_data/00001/00900_00000.ppm  \n",
            "  inflating: /content/New_data/00001/00900_00001.ppm  \n",
            "  inflating: /content/New_data/00001/00900_00002.ppm  \n",
            "  inflating: /content/New_data/00001/00920_00000.ppm  \n",
            "  inflating: /content/New_data/00001/00920_00001.ppm  \n",
            "  inflating: /content/New_data/00001/00920_00002.ppm  \n",
            "  inflating: /content/New_data/00001/00921_00000.ppm  \n",
            "  inflating: /content/New_data/00001/00921_00001.ppm  \n",
            "  inflating: /content/New_data/00001/00933_00000.ppm  \n",
            "  inflating: /content/New_data/00001/00933_00001.ppm  \n",
            "  inflating: /content/New_data/00001/00933_00002.ppm  \n",
            "  inflating: /content/New_data/00001/00941_00000.ppm  \n",
            "  inflating: /content/New_data/00001/00941_00001.ppm  \n",
            "  inflating: /content/New_data/00001/00941_00002.ppm  \n",
            "  inflating: /content/New_data/00001/00947_00000.ppm  \n",
            "  inflating: /content/New_data/00001/00947_00001.ppm  \n",
            "  inflating: /content/New_data/00001/00947_00002.ppm  \n",
            "  inflating: /content/New_data/00001/00965_00000.ppm  \n",
            "  inflating: /content/New_data/00001/00965_00001.ppm  \n",
            "  inflating: /content/New_data/00001/00965_00002.ppm  \n",
            "  inflating: /content/New_data/00001/01028_00000.ppm  \n",
            "  inflating: /content/New_data/00001/01028_00001.ppm  \n",
            "  inflating: /content/New_data/00001/01028_00002.ppm  \n",
            "  inflating: /content/New_data/00001/01103_00000.ppm  \n",
            "  inflating: /content/New_data/00001/01103_00001.ppm  \n",
            "  inflating: /content/New_data/00001/01103_00002.ppm  \n",
            "  inflating: /content/New_data/00001/01114_00000.ppm  \n",
            "  inflating: /content/New_data/00001/01114_00001.ppm  \n",
            "  inflating: /content/New_data/00001/01114_00002.ppm  \n",
            "  inflating: /content/New_data/00001/01278_00000.ppm  \n",
            "  inflating: /content/New_data/00001/01278_00001.ppm  \n",
            "  inflating: /content/New_data/00001/01278_00002.ppm  \n",
            "  inflating: /content/New_data/00001/01556_00000.ppm  \n",
            "  inflating: /content/New_data/00001/01556_00001.ppm  \n",
            "  inflating: /content/New_data/00001/01556_00002.ppm  \n",
            "  inflating: /content/New_data/00001/01584_00000.ppm  \n",
            "  inflating: /content/New_data/00001/01584_00001.ppm  \n",
            "  inflating: /content/New_data/00001/01584_00002.ppm  \n",
            "  inflating: /content/New_data/00001/01585_00000.ppm  \n",
            "  inflating: /content/New_data/00001/01585_00001.ppm  \n",
            "  inflating: /content/New_data/00001/01585_00002.ppm  \n",
            "  inflating: /content/New_data/00001/01590_00000.ppm  \n",
            "  inflating: /content/New_data/00001/01590_00001.ppm  \n",
            "  inflating: /content/New_data/00001/01590_00002.ppm  \n",
            "  inflating: /content/New_data/00001/01651_00000.ppm  \n",
            "  inflating: /content/New_data/00001/01651_00001.ppm  \n",
            "  inflating: /content/New_data/00001/01651_00002.ppm  \n",
            "  inflating: /content/New_data/00001/01662_00000.ppm  \n",
            "  inflating: /content/New_data/00001/01662_00001.ppm  \n",
            "  inflating: /content/New_data/00001/01662_00002.ppm  \n",
            "  inflating: /content/New_data/00001/01681_00000.ppm  \n",
            "  inflating: /content/New_data/00001/01681_00001.ppm  \n",
            "  inflating: /content/New_data/00001/01681_00002.ppm  \n",
            "  inflating: /content/New_data/00001/01699_00000.ppm  \n",
            "  inflating: /content/New_data/00001/01699_00001.ppm  \n",
            "  inflating: /content/New_data/00001/test.txt  \n",
            "  inflating: /content/New_data/00001/train.txt  \n",
            "  inflating: /content/New_data/00002/00001_00000.ppm  \n",
            "  inflating: /content/New_data/00002/00001_00001.ppm  \n",
            "  inflating: /content/New_data/00002/00001_00002.ppm  \n",
            "  inflating: /content/New_data/00002/00018_00000.ppm  \n",
            "  inflating: /content/New_data/00002/00018_00001.ppm  \n",
            "  inflating: /content/New_data/00002/00018_00002.ppm  \n",
            "  inflating: /content/New_data/00002/00028_00000.ppm  \n",
            "  inflating: /content/New_data/00002/00028_00001.ppm  \n",
            "  inflating: /content/New_data/00002/00028_00002.ppm  \n",
            "  inflating: /content/New_data/00002/00192_00000.ppm  \n",
            "  inflating: /content/New_data/00002/00192_00001.ppm  \n",
            "  inflating: /content/New_data/00002/00192_00002.ppm  \n",
            "  inflating: /content/New_data/00002/00927_00000.ppm  \n",
            "  inflating: /content/New_data/00002/00927_00001.ppm  \n",
            "  inflating: /content/New_data/00002/00927_00002.ppm  \n",
            "  inflating: /content/New_data/00002/00928_00000.ppm  \n",
            "  inflating: /content/New_data/00002/00928_00001.ppm  \n",
            "  inflating: /content/New_data/00002/00928_00002.ppm  \n",
            "  inflating: /content/New_data/00002/00930_00000.ppm  \n",
            "  inflating: /content/New_data/00002/00930_00001.ppm  \n",
            "  inflating: /content/New_data/00002/00931_00001.ppm  \n",
            "  inflating: /content/New_data/00002/00937_00001.ppm  \n",
            "  inflating: /content/New_data/00002/00937_00002.ppm  \n",
            "  inflating: /content/New_data/00002/00937_00003.ppm  \n",
            "  inflating: /content/New_data/00002/00938_00000.ppm  \n",
            "  inflating: /content/New_data/00002/00943_00001.ppm  \n",
            "  inflating: /content/New_data/00002/00945_00000.ppm  \n",
            "  inflating: /content/New_data/00002/00945_00001.ppm  \n",
            "  inflating: /content/New_data/00002/00945_00002.ppm  \n",
            "  inflating: /content/New_data/00002/00957_00002.ppm  \n",
            "  inflating: /content/New_data/00002/00959_00000.ppm  \n",
            "  inflating: /content/New_data/00002/00959_00001.ppm  \n",
            "  inflating: /content/New_data/00002/00959_00002.ppm  \n",
            "  inflating: /content/New_data/00002/01002_00002.ppm  \n",
            "  inflating: /content/New_data/00002/01003_00000.ppm  \n",
            "  inflating: /content/New_data/00002/01003_00001.ppm  \n",
            "  inflating: /content/New_data/00002/01003_00002.ppm  \n",
            "  inflating: /content/New_data/00002/01013_00000.ppm  \n",
            "  inflating: /content/New_data/00002/01013_00001.ppm  \n",
            "  inflating: /content/New_data/00002/01013_00002.ppm  \n",
            "  inflating: /content/New_data/00002/01102_00002.ppm  \n",
            "  inflating: /content/New_data/00002/01108_00000.ppm  \n",
            "  inflating: /content/New_data/00002/01108_00001.ppm  \n",
            "  inflating: /content/New_data/00002/01108_00002.ppm  \n",
            "  inflating: /content/New_data/00002/01109_00002.ppm  \n",
            "  inflating: /content/New_data/00002/01111_00000.ppm  \n",
            "  inflating: /content/New_data/00002/01111_00001.ppm  \n",
            "  inflating: /content/New_data/00002/01112_00000.ppm  \n",
            "  inflating: /content/New_data/00002/01232_00002.ppm  \n",
            "  inflating: /content/New_data/00002/01237_00000.ppm  \n",
            "  inflating: /content/New_data/00002/01237_00001.ppm  \n",
            "  inflating: /content/New_data/00002/01237_00002.ppm  \n",
            "  inflating: /content/New_data/00002/01238_00002.ppm  \n",
            "  inflating: /content/New_data/00002/01243_00000.ppm  \n",
            "  inflating: /content/New_data/00002/01243_00001.ppm  \n",
            "  inflating: /content/New_data/00002/01243_00002.ppm  \n",
            "  inflating: /content/New_data/00002/01244_00002.ppm  \n",
            "  inflating: /content/New_data/00002/01248_00000.ppm  \n",
            "  inflating: /content/New_data/00002/01248_00001.ppm  \n",
            "  inflating: /content/New_data/00002/01248_00002.ppm  \n",
            "  inflating: /content/New_data/00002/01249_00002.ppm  \n",
            "  inflating: /content/New_data/00002/01253_00000.ppm  \n",
            "  inflating: /content/New_data/00002/01253_00001.ppm  \n",
            "  inflating: /content/New_data/00002/01253_00002.ppm  \n",
            "  inflating: /content/New_data/00002/01254_00001.ppm  \n",
            "  inflating: /content/New_data/00002/01254_00002.ppm  \n",
            "  inflating: /content/New_data/00002/01262_00000.ppm  \n",
            "  inflating: /content/New_data/00002/01262_00001.ppm  \n",
            "  inflating: /content/New_data/00002/01263_00001.ppm  \n",
            "  inflating: /content/New_data/00002/01263_00002.ppm  \n",
            "  inflating: /content/New_data/00002/01269_00000.ppm  \n",
            "  inflating: /content/New_data/00002/01269_00001.ppm  \n",
            "  inflating: /content/New_data/00002/01275_00000.ppm  \n",
            "  inflating: /content/New_data/00002/01275_00001.ppm  \n",
            "  inflating: /content/New_data/00002/01275_00002.ppm  \n",
            "  inflating: /content/New_data/00002/01276_00000.ppm  \n",
            "  inflating: /content/New_data/00002/01502_00002.ppm  \n",
            "  inflating: /content/New_data/00002/01504_00000.ppm  \n",
            "  inflating: /content/New_data/00002/01511_00002.ppm  \n",
            "  inflating: /content/New_data/00002/01514_00000.ppm  \n",
            "  inflating: /content/New_data/00002/01519_00002.ppm  \n",
            "  inflating: /content/New_data/00002/01524_00001.ppm  \n",
            "  inflating: /content/New_data/00002/01525_00002.ppm  \n",
            "  inflating: /content/New_data/00002/01526_00000.ppm  \n",
            "  inflating: /content/New_data/00002/01528_00002.ppm  \n",
            "  inflating: /content/New_data/00002/01536_00000.ppm  \n",
            "  inflating: /content/New_data/00002/01536_00001.ppm  \n",
            "  inflating: /content/New_data/00002/01536_00002.ppm  \n",
            "  inflating: /content/New_data/00002/01588_00001.ppm  \n",
            "  inflating: /content/New_data/00002/01588_00002.ppm  \n",
            "  inflating: /content/New_data/00002/01713_00001.ppm  \n",
            "  inflating: /content/New_data/00002/01915_00000.ppm  \n",
            "  inflating: /content/New_data/00002/01915_00001.ppm  \n",
            "  inflating: /content/New_data/00002/01915_00002.ppm  \n",
            "  inflating: /content/New_data/00002/01916_00000.ppm  \n",
            "  inflating: /content/New_data/00002/01955_00002.ppm  \n",
            "  inflating: /content/New_data/00002/01956_00000.ppm  \n",
            "  inflating: /content/New_data/00002/01958_00000.ppm  \n",
            "  inflating: /content/New_data/00002/01958_00001.ppm  \n",
            "  inflating: /content/New_data/00002/01958_00002.ppm  \n",
            "  inflating: /content/New_data/00002/test.txt  \n",
            "  inflating: /content/New_data/00002/train.txt  \n",
            "  inflating: /content/New_data/00003/00173_00000.ppm  \n",
            "  inflating: /content/New_data/00003/00173_00001.ppm  \n",
            "  inflating: /content/New_data/00003/00173_00002.ppm  \n",
            "  inflating: /content/New_data/00003/00224_00000.ppm  \n",
            "  inflating: /content/New_data/00003/00224_00001.ppm  \n",
            "  inflating: /content/New_data/00003/00224_00002.ppm  \n",
            "  inflating: /content/New_data/00003/00361_00000.ppm  \n",
            "  inflating: /content/New_data/00003/00361_00001.ppm  \n",
            "  inflating: /content/New_data/00003/00361_00002.ppm  \n",
            "  inflating: /content/New_data/00003/00372_00000.ppm  \n",
            "  inflating: /content/New_data/00003/00372_00001.ppm  \n",
            "  inflating: /content/New_data/00003/00372_00002.ppm  \n",
            "  inflating: /content/New_data/00003/00377_00000.ppm  \n",
            "  inflating: /content/New_data/00003/00421_00000.ppm  \n",
            "  inflating: /content/New_data/00003/00421_00001.ppm  \n",
            "  inflating: /content/New_data/00003/00421_00002.ppm  \n",
            "  inflating: /content/New_data/00003/00549_00000.ppm  \n",
            "  inflating: /content/New_data/00003/00549_00001.ppm  \n",
            "  inflating: /content/New_data/00003/00549_00002.ppm  \n",
            "  inflating: /content/New_data/00003/00553_00000.ppm  \n",
            "  inflating: /content/New_data/00003/00553_00001.ppm  \n",
            "  inflating: /content/New_data/00003/00553_00002.ppm  \n",
            "  inflating: /content/New_data/00003/00559_00000.ppm  \n",
            "  inflating: /content/New_data/00003/00559_00001.ppm  \n",
            "  inflating: /content/New_data/00003/00559_00002.ppm  \n",
            "  inflating: /content/New_data/00003/00569_00000.ppm  \n",
            "  inflating: /content/New_data/00003/00569_00001.ppm  \n",
            "  inflating: /content/New_data/00003/00569_00002.ppm  \n",
            "  inflating: /content/New_data/00003/00578_00000.ppm  \n",
            "  inflating: /content/New_data/00003/00578_00001.ppm  \n",
            "  inflating: /content/New_data/00003/00578_00002.ppm  \n",
            "  inflating: /content/New_data/00003/00619_00000.ppm  \n",
            "  inflating: /content/New_data/00003/00619_00001.ppm  \n",
            "  inflating: /content/New_data/00003/00619_00002.ppm  \n",
            "  inflating: /content/New_data/00003/00653_00000.ppm  \n",
            "  inflating: /content/New_data/00003/00653_00001.ppm  \n",
            "  inflating: /content/New_data/00003/00653_00002.ppm  \n",
            "  inflating: /content/New_data/00003/00758_00000.ppm  \n",
            "  inflating: /content/New_data/00003/00758_00001.ppm  \n",
            "  inflating: /content/New_data/00003/00758_00002.ppm  \n",
            "  inflating: /content/New_data/00003/00762_00000.ppm  \n",
            "  inflating: /content/New_data/00003/00762_00001.ppm  \n",
            "  inflating: /content/New_data/00003/00762_00002.ppm  \n",
            "  inflating: /content/New_data/00003/01529_00000.ppm  \n",
            "  inflating: /content/New_data/00003/01529_00001.ppm  \n",
            "  inflating: /content/New_data/00003/01529_00002.ppm  \n",
            "  inflating: /content/New_data/00003/01744_00000.ppm  \n",
            "  inflating: /content/New_data/00003/01763_00000.ppm  \n",
            "  inflating: /content/New_data/00003/01763_00001.ppm  \n",
            "  inflating: /content/New_data/00003/01763_00002.ppm  \n",
            "  inflating: /content/New_data/00003/01764_00000.ppm  \n",
            "  inflating: /content/New_data/00003/01764_00001.ppm  \n",
            "  inflating: /content/New_data/00003/01764_00002.ppm  \n",
            "  inflating: /content/New_data/00003/01773_00000.ppm  \n",
            "  inflating: /content/New_data/00003/01773_00001.ppm  \n",
            "  inflating: /content/New_data/00003/01773_00002.ppm  \n",
            "  inflating: /content/New_data/00003/01775_00000.ppm  \n",
            "  inflating: /content/New_data/00003/01775_00001.ppm  \n",
            "  inflating: /content/New_data/00003/01775_00002.ppm  \n",
            "  inflating: /content/New_data/00003/01807_00000.ppm  \n",
            "  inflating: /content/New_data/00003/01807_00001.ppm  \n",
            "  inflating: /content/New_data/00003/01807_00002.ppm  \n",
            "  inflating: /content/New_data/00003/01815_00000.ppm  \n",
            "  inflating: /content/New_data/00003/01815_00001.ppm  \n",
            "  inflating: /content/New_data/00003/01815_00002.ppm  \n",
            "  inflating: /content/New_data/00003/01816_00000.ppm  \n",
            "  inflating: /content/New_data/00003/01816_00001.ppm  \n",
            "  inflating: /content/New_data/00003/01816_00002.ppm  \n",
            "  inflating: /content/New_data/00003/01817_00000.ppm  \n",
            "  inflating: /content/New_data/00003/01817_00001.ppm  \n",
            "  inflating: /content/New_data/00003/01817_00002.ppm  \n",
            "  inflating: /content/New_data/00003/01818_00000.ppm  \n",
            "  inflating: /content/New_data/00003/01818_00001.ppm  \n",
            "  inflating: /content/New_data/00003/01818_00002.ppm  \n",
            "  inflating: /content/New_data/00003/01820_00000.ppm  \n",
            "  inflating: /content/New_data/00003/01820_00001.ppm  \n",
            "  inflating: /content/New_data/00003/01820_00002.ppm  \n",
            "  inflating: /content/New_data/00003/01823_00000.ppm  \n",
            "  inflating: /content/New_data/00003/01823_00001.ppm  \n",
            "  inflating: /content/New_data/00003/01823_00002.ppm  \n",
            "  inflating: /content/New_data/00003/01824_00000.ppm  \n",
            "  inflating: /content/New_data/00003/01824_00001.ppm  \n",
            "  inflating: /content/New_data/00003/01828_00000.ppm  \n",
            "  inflating: /content/New_data/00003/01828_00001.ppm  \n",
            "  inflating: /content/New_data/00003/01828_00002.ppm  \n",
            "  inflating: /content/New_data/00003/01846_00000.ppm  \n",
            "  inflating: /content/New_data/00003/01846_00001.ppm  \n",
            "  inflating: /content/New_data/00003/01846_00002.ppm  \n",
            "  inflating: /content/New_data/00003/01847_00000.ppm  \n",
            "  inflating: /content/New_data/00003/01847_00001.ppm  \n",
            "  inflating: /content/New_data/00003/01847_00002.ppm  \n",
            "  inflating: /content/New_data/00003/01848_00000.ppm  \n",
            "  inflating: /content/New_data/00003/01848_00001.ppm  \n",
            "  inflating: /content/New_data/00003/01848_00002.ppm  \n",
            "  inflating: /content/New_data/00003/01849_00000.ppm  \n",
            "  inflating: /content/New_data/00003/01849_00001.ppm  \n",
            "  inflating: /content/New_data/00003/01849_00002.ppm  \n",
            "  inflating: /content/New_data/00003/01852_00000.ppm  \n",
            "  inflating: /content/New_data/00003/01852_00001.ppm  \n",
            "  inflating: /content/New_data/00003/01852_00002.ppm  \n",
            "  inflating: /content/New_data/00003/test.txt  \n",
            "  inflating: /content/New_data/00003/train.txt  \n",
            "  inflating: /content/New_data/00004/00132_00000.ppm  \n",
            "  inflating: /content/New_data/00004/00132_00001.ppm  \n",
            "  inflating: /content/New_data/00004/00132_00002.ppm  \n",
            "  inflating: /content/New_data/00004/00295_00000.ppm  \n",
            "  inflating: /content/New_data/00004/00305_00000.ppm  \n",
            "  inflating: /content/New_data/00004/00305_00001.ppm  \n",
            "  inflating: /content/New_data/00004/00305_00002.ppm  \n",
            "  inflating: /content/New_data/00004/00689_00000.ppm  \n",
            "  inflating: /content/New_data/00004/00689_00001.ppm  \n",
            "  inflating: /content/New_data/00004/00689_00002.ppm  \n",
            "  inflating: /content/New_data/00004/00689_00003.ppm  \n",
            "  inflating: /content/New_data/00004/00719_00000.ppm  \n",
            "  inflating: /content/New_data/00004/00719_00001.ppm  \n",
            "  inflating: /content/New_data/00004/00719_00002.ppm  \n",
            "  inflating: /content/New_data/00004/00736_00000.ppm  \n",
            "  inflating: /content/New_data/00004/00736_00001.ppm  \n",
            "  inflating: /content/New_data/00004/00736_00002.ppm  \n",
            "  inflating: /content/New_data/00004/00769_00000.ppm  \n",
            "  inflating: /content/New_data/00004/00769_00001.ppm  \n",
            "  inflating: /content/New_data/00004/00769_00002.ppm  \n",
            "  inflating: /content/New_data/00004/00770_00000.ppm  \n",
            "  inflating: /content/New_data/00004/00770_00001.ppm  \n",
            "  inflating: /content/New_data/00004/00770_00002.ppm  \n",
            "  inflating: /content/New_data/00004/00781_00000.ppm  \n",
            "  inflating: /content/New_data/00004/00781_00001.ppm  \n",
            "  inflating: /content/New_data/00004/00781_00002.ppm  \n",
            "  inflating: /content/New_data/00004/00987_00000.ppm  \n",
            "  inflating: /content/New_data/00004/00987_00001.ppm  \n",
            "  inflating: /content/New_data/00004/01017_00000.ppm  \n",
            "  inflating: /content/New_data/00004/01017_00001.ppm  \n",
            "  inflating: /content/New_data/00004/01017_00002.ppm  \n",
            "  inflating: /content/New_data/00004/01061_00000.ppm  \n",
            "  inflating: /content/New_data/00004/01061_00002.ppm  \n",
            "  inflating: /content/New_data/00004/01061_00003.ppm  \n",
            "  inflating: /content/New_data/00004/01062_00000.ppm  \n",
            "  inflating: /content/New_data/00004/01062_00001.ppm  \n",
            "  inflating: /content/New_data/00004/01062_00002.ppm  \n",
            "  inflating: /content/New_data/00004/01077_00000.ppm  \n",
            "  inflating: /content/New_data/00004/01077_00001.ppm  \n",
            "  inflating: /content/New_data/00004/01077_00002.ppm  \n",
            "  inflating: /content/New_data/00004/01081_00000.ppm  \n",
            "  inflating: /content/New_data/00004/01081_00001.ppm  \n",
            "  inflating: /content/New_data/00004/01081_00002.ppm  \n",
            "  inflating: /content/New_data/00004/01138_00000.ppm  \n",
            "  inflating: /content/New_data/00004/01138_00001.ppm  \n",
            "  inflating: /content/New_data/00004/01138_00002.ppm  \n",
            "  inflating: /content/New_data/00004/01139_00002.ppm  \n",
            "  inflating: /content/New_data/00004/01152_00000.ppm  \n",
            "  inflating: /content/New_data/00004/01152_00001.ppm  \n",
            "  inflating: /content/New_data/00004/01152_00002.ppm  \n",
            "  inflating: /content/New_data/00004/01159_00000.ppm  \n",
            "  inflating: /content/New_data/00004/01159_00001.ppm  \n",
            "  inflating: /content/New_data/00004/01159_00002.ppm  \n",
            "  inflating: /content/New_data/00004/01186_00000.ppm  \n",
            "  inflating: /content/New_data/00004/01186_00001.ppm  \n",
            "  inflating: /content/New_data/00004/01186_00002.ppm  \n",
            "  inflating: /content/New_data/00004/01189_00000.ppm  \n",
            "  inflating: /content/New_data/00004/01189_00001.ppm  \n",
            "  inflating: /content/New_data/00004/01189_00002.ppm  \n",
            "  inflating: /content/New_data/00004/01195_00000.ppm  \n",
            "  inflating: /content/New_data/00004/01195_00001.ppm  \n",
            "  inflating: /content/New_data/00004/01195_00002.ppm  \n",
            "  inflating: /content/New_data/00004/01393_00000.ppm  \n",
            "  inflating: /content/New_data/00004/01393_00001.ppm  \n",
            "  inflating: /content/New_data/00004/01406_00000.ppm  \n",
            "  inflating: /content/New_data/00004/01406_00001.ppm  \n",
            "  inflating: /content/New_data/00004/01406_00002.ppm  \n",
            "  inflating: /content/New_data/00004/01423_00000.ppm  \n",
            "  inflating: /content/New_data/00004/01423_00001.ppm  \n",
            "  inflating: /content/New_data/00004/01426_00000.ppm  \n",
            "  inflating: /content/New_data/00004/01426_00001.ppm  \n",
            "  inflating: /content/New_data/00004/01433_00000.ppm  \n",
            "  inflating: /content/New_data/00004/01433_00001.ppm  \n",
            "  inflating: /content/New_data/00004/01433_00002.ppm  \n",
            "  inflating: /content/New_data/00004/01485_00002.ppm  \n",
            "  inflating: /content/New_data/00004/01531_00000.ppm  \n",
            "  inflating: /content/New_data/00004/01531_00001.ppm  \n",
            "  inflating: /content/New_data/00004/01531_00002.ppm  \n",
            "  inflating: /content/New_data/00004/01598_00000.ppm  \n",
            "  inflating: /content/New_data/00004/01598_00001.ppm  \n",
            "  inflating: /content/New_data/00004/01598_00002.ppm  \n",
            "  inflating: /content/New_data/00004/01605_00000.ppm  \n",
            "  inflating: /content/New_data/00004/01605_00001.ppm  \n",
            "  inflating: /content/New_data/00004/01653_00000.ppm  \n",
            "  inflating: /content/New_data/00004/01653_00001.ppm  \n",
            "  inflating: /content/New_data/00004/01653_00002.ppm  \n",
            "  inflating: /content/New_data/00004/01700_00000.ppm  \n",
            "  inflating: /content/New_data/00004/01700_00001.ppm  \n",
            "  inflating: /content/New_data/00004/01782_00000.ppm  \n",
            "  inflating: /content/New_data/00004/01782_00001.ppm  \n",
            "  inflating: /content/New_data/00004/01782_00002.ppm  \n",
            "  inflating: /content/New_data/00004/01794_00000.ppm  \n",
            "  inflating: /content/New_data/00004/01794_00001.ppm  \n",
            "  inflating: /content/New_data/00004/01794_00002.ppm  \n",
            "  inflating: /content/New_data/00004/01801_00000.ppm  \n",
            "  inflating: /content/New_data/00004/01801_00001.ppm  \n",
            "  inflating: /content/New_data/00004/01801_00002.ppm  \n",
            "  inflating: /content/New_data/00004/01880_00000.ppm  \n",
            "  inflating: /content/New_data/00004/01880_00001.ppm  \n",
            "  inflating: /content/New_data/00004/01880_00002.ppm  \n",
            "  inflating: /content/New_data/00004/test.txt  \n",
            "  inflating: /content/New_data/00004/train.txt  \n",
            "  inflating: /content/New_data/00005/00020_00000.ppm  \n",
            "  inflating: /content/New_data/00005/00020_00001.ppm  \n",
            "  inflating: /content/New_data/00005/00020_00002.ppm  \n",
            "  inflating: /content/New_data/00005/00048_00000.ppm  \n",
            "  inflating: /content/New_data/00005/00048_00001.ppm  \n",
            "  inflating: /content/New_data/00005/00048_00002.ppm  \n",
            "  inflating: /content/New_data/00005/00053_00000.ppm  \n",
            "  inflating: /content/New_data/00005/00053_00001.ppm  \n",
            "  inflating: /content/New_data/00005/00053_00002.ppm  \n",
            "  inflating: /content/New_data/00005/00112_00000.ppm  \n",
            "  inflating: /content/New_data/00005/00112_00001.ppm  \n",
            "  inflating: /content/New_data/00005/00112_00002.ppm  \n",
            "  inflating: /content/New_data/00005/00362_00000.ppm  \n",
            "  inflating: /content/New_data/00005/00362_00001.ppm  \n",
            "  inflating: /content/New_data/00005/00362_00002.ppm  \n",
            "  inflating: /content/New_data/00005/00363_00000.ppm  \n",
            "  inflating: /content/New_data/00005/00363_00001.ppm  \n",
            "  inflating: /content/New_data/00005/00363_00002.ppm  \n",
            "  inflating: /content/New_data/00005/00560_00000.ppm  \n",
            "  inflating: /content/New_data/00005/00560_00001.ppm  \n",
            "  inflating: /content/New_data/00005/00560_00002.ppm  \n",
            "  inflating: /content/New_data/00005/00570_00000.ppm  \n",
            "  inflating: /content/New_data/00005/00570_00001.ppm  \n",
            "  inflating: /content/New_data/00005/00570_00002.ppm  \n",
            "  inflating: /content/New_data/00005/00571_00000.ppm  \n",
            "  inflating: /content/New_data/00005/00571_00001.ppm  \n",
            "  inflating: /content/New_data/00005/00571_00002.ppm  \n",
            "  inflating: /content/New_data/00005/00678_00000.ppm  \n",
            "  inflating: /content/New_data/00005/00678_00001.ppm  \n",
            "  inflating: /content/New_data/00005/00678_00002.ppm  \n",
            "  inflating: /content/New_data/00005/00687_00000.ppm  \n",
            "  inflating: /content/New_data/00005/00687_00001.ppm  \n",
            "  inflating: /content/New_data/00005/00687_00002.ppm  \n",
            "  inflating: /content/New_data/00005/00702_00000.ppm  \n",
            "  inflating: /content/New_data/00005/00702_00001.ppm  \n",
            "  inflating: /content/New_data/00005/00702_00002.ppm  \n",
            "  inflating: /content/New_data/00005/00725_00000.ppm  \n",
            "  inflating: /content/New_data/00005/00725_00001.ppm  \n",
            "  inflating: /content/New_data/00005/00725_00002.ppm  \n",
            "  inflating: /content/New_data/00005/00882_00000.ppm  \n",
            "  inflating: /content/New_data/00005/00882_00001.ppm  \n",
            "  inflating: /content/New_data/00005/00882_00002.ppm  \n",
            "  inflating: /content/New_data/00005/00888_00000.ppm  \n",
            "  inflating: /content/New_data/00005/00888_00001.ppm  \n",
            "  inflating: /content/New_data/00005/00888_00002.ppm  \n",
            "  inflating: /content/New_data/00005/00905_00000.ppm  \n",
            "  inflating: /content/New_data/00005/00905_00001.ppm  \n",
            "  inflating: /content/New_data/00005/00905_00002.ppm  \n",
            "  inflating: /content/New_data/00005/00907_00000.ppm  \n",
            "  inflating: /content/New_data/00005/00907_00001.ppm  \n",
            "  inflating: /content/New_data/00005/00907_00002.ppm  \n",
            "  inflating: /content/New_data/00005/00926_00000.ppm  \n",
            "  inflating: /content/New_data/00005/00926_00001.ppm  \n",
            "  inflating: /content/New_data/00005/00929_00000.ppm  \n",
            "  inflating: /content/New_data/00005/00929_00001.ppm  \n",
            "  inflating: /content/New_data/00005/00929_00002.ppm  \n",
            "  inflating: /content/New_data/00005/00932_00000.ppm  \n",
            "  inflating: /content/New_data/00005/00932_00001.ppm  \n",
            "  inflating: /content/New_data/00005/00932_00002.ppm  \n",
            "  inflating: /content/New_data/00005/00936_00000.ppm  \n",
            "  inflating: /content/New_data/00005/00936_00001.ppm  \n",
            "  inflating: /content/New_data/00005/00936_00002.ppm  \n",
            "  inflating: /content/New_data/00005/00939_00000.ppm  \n",
            "  inflating: /content/New_data/00005/00939_00001.ppm  \n",
            "  inflating: /content/New_data/00005/00939_00002.ppm  \n",
            "  inflating: /content/New_data/00005/01015_00000.ppm  \n",
            "  inflating: /content/New_data/00005/01015_00001.ppm  \n",
            "  inflating: /content/New_data/00005/01015_00002.ppm  \n",
            "  inflating: /content/New_data/00005/01044_00002.ppm  \n",
            "  inflating: /content/New_data/00005/01051_00000.ppm  \n",
            "  inflating: /content/New_data/00005/01051_00001.ppm  \n",
            "  inflating: /content/New_data/00005/01051_00002.ppm  \n",
            "  inflating: /content/New_data/00005/01057_00001.ppm  \n",
            "  inflating: /content/New_data/00005/01099_00001.ppm  \n",
            "  inflating: /content/New_data/00005/01156_00000.ppm  \n",
            "  inflating: /content/New_data/00005/01156_00001.ppm  \n",
            "  inflating: /content/New_data/00005/01156_00002.ppm  \n",
            "  inflating: /content/New_data/00005/01168_00000.ppm  \n",
            "  inflating: /content/New_data/00005/01168_00001.ppm  \n",
            "  inflating: /content/New_data/00005/01168_00002.ppm  \n",
            "  inflating: /content/New_data/00005/01171_00000.ppm  \n",
            "  inflating: /content/New_data/00005/01171_00001.ppm  \n",
            "  inflating: /content/New_data/00005/01171_00002.ppm  \n",
            "  inflating: /content/New_data/00005/01171_00003.ppm  \n",
            "  inflating: /content/New_data/00005/01173_00000.ppm  \n",
            "  inflating: /content/New_data/00005/01173_00001.ppm  \n",
            "  inflating: /content/New_data/00005/01173_00002.ppm  \n",
            "  inflating: /content/New_data/00005/01210_00000.ppm  \n",
            "  inflating: /content/New_data/00005/01210_00001.ppm  \n",
            "  inflating: /content/New_data/00005/01210_00002.ppm  \n",
            "  inflating: /content/New_data/00005/01224_00001.ppm  \n",
            "  inflating: /content/New_data/00005/01224_00002.ppm  \n",
            "  inflating: /content/New_data/00005/01245_00000.ppm  \n",
            "  inflating: /content/New_data/00005/01245_00001.ppm  \n",
            "  inflating: /content/New_data/00005/01245_00002.ppm  \n",
            "  inflating: /content/New_data/00005/01546_00000.ppm  \n",
            "  inflating: /content/New_data/00005/01546_00001.ppm  \n",
            "  inflating: /content/New_data/00005/01550_00001.ppm  \n",
            "  inflating: /content/New_data/00005/01560_00000.ppm  \n",
            "  inflating: /content/New_data/00005/01560_00001.ppm  \n",
            "  inflating: /content/New_data/00005/test.txt  \n",
            "  inflating: /content/New_data/00005/train.txt  \n",
            "  inflating: /content/New_data/00006/00006_00000.ppm  \n",
            "  inflating: /content/New_data/00006/00006_00001.ppm  \n",
            "  inflating: /content/New_data/00006/00006_00002.ppm  \n",
            "  inflating: /content/New_data/00006/00056_00000.ppm  \n",
            "  inflating: /content/New_data/00006/00056_00001.ppm  \n",
            "  inflating: /content/New_data/00006/00058_00000.ppm  \n",
            "  inflating: /content/New_data/00006/00058_00002.ppm  \n",
            "  inflating: /content/New_data/00006/00066_00000.ppm  \n",
            "  inflating: /content/New_data/00006/00066_00001.ppm  \n",
            "  inflating: /content/New_data/00006/00066_00002.ppm  \n",
            "  inflating: /content/New_data/00006/00072_00000.ppm  \n",
            "  inflating: /content/New_data/00006/00072_00001.ppm  \n",
            "  inflating: /content/New_data/00006/00096_00000.ppm  \n",
            "  inflating: /content/New_data/00006/00096_00001.ppm  \n",
            "  inflating: /content/New_data/00006/00114_00000.ppm  \n",
            "  inflating: /content/New_data/00006/00114_00001.ppm  \n",
            "  inflating: /content/New_data/00006/00114_00002.ppm  \n",
            "  inflating: /content/New_data/00006/00170_00001.ppm  \n",
            "  inflating: /content/New_data/00006/00170_00002.ppm  \n",
            "  inflating: /content/New_data/00006/00459_00000.ppm  \n",
            "  inflating: /content/New_data/00006/00459_00001.ppm  \n",
            "  inflating: /content/New_data/00006/00854_00000.ppm  \n",
            "  inflating: /content/New_data/00006/00854_00001.ppm  \n",
            "  inflating: /content/New_data/00006/00854_00002.ppm  \n",
            "  inflating: /content/New_data/00006/00916_00000.ppm  \n",
            "  inflating: /content/New_data/00006/00916_00001.ppm  \n",
            "  inflating: /content/New_data/00006/00916_00002.ppm  \n",
            "  inflating: /content/New_data/00006/00923_00001.ppm  \n",
            "  inflating: /content/New_data/00006/00942_00000.ppm  \n",
            "  inflating: /content/New_data/00006/00942_00001.ppm  \n",
            "  inflating: /content/New_data/00006/00960_00000.ppm  \n",
            "  inflating: /content/New_data/00006/00960_00001.ppm  \n",
            "  inflating: /content/New_data/00006/00960_00002.ppm  \n",
            "  inflating: /content/New_data/00006/00980_00002.ppm  \n",
            "  inflating: /content/New_data/00006/00981_00000.ppm  \n",
            "  inflating: /content/New_data/00006/00981_00001.ppm  \n",
            "  inflating: /content/New_data/00006/00981_00002.ppm  \n",
            "  inflating: /content/New_data/00006/00982_00000.ppm  \n",
            "  inflating: /content/New_data/00006/00982_00001.ppm  \n",
            "  inflating: /content/New_data/00006/00982_00002.ppm  \n",
            "  inflating: /content/New_data/00006/00983_00000.ppm  \n",
            "  inflating: /content/New_data/00006/00983_00001.ppm  \n",
            "  inflating: /content/New_data/00006/00983_00002.ppm  \n",
            "  inflating: /content/New_data/00006/01001_00000.ppm  \n",
            "  inflating: /content/New_data/00006/01001_00001.ppm  \n",
            "  inflating: /content/New_data/00006/01001_00002.ppm  \n",
            "  inflating: /content/New_data/00006/01010_00000.ppm  \n",
            "  inflating: /content/New_data/00006/01010_00001.ppm  \n",
            "  inflating: /content/New_data/00006/01010_00002.ppm  \n",
            "  inflating: /content/New_data/00006/01038_00000.ppm  \n",
            "  inflating: /content/New_data/00006/01038_00002.ppm  \n",
            "  inflating: /content/New_data/00006/01039_00000.ppm  \n",
            "  inflating: /content/New_data/00006/01039_00001.ppm  \n",
            "  inflating: /content/New_data/00006/01039_00002.ppm  \n",
            "  inflating: /content/New_data/00006/01101_00000.ppm  \n",
            "  inflating: /content/New_data/00006/01101_00001.ppm  \n",
            "  inflating: /content/New_data/00006/01101_00002.ppm  \n",
            "  inflating: /content/New_data/00006/01106_00000.ppm  \n",
            "  inflating: /content/New_data/00006/01106_00001.ppm  \n",
            "  inflating: /content/New_data/00006/01106_00002.ppm  \n",
            "  inflating: /content/New_data/00006/01190_00000.ppm  \n",
            "  inflating: /content/New_data/00006/01190_00001.ppm  \n",
            "  inflating: /content/New_data/00006/01190_00002.ppm  \n",
            "  inflating: /content/New_data/00006/01207_00000.ppm  \n",
            "  inflating: /content/New_data/00006/01207_00001.ppm  \n",
            "  inflating: /content/New_data/00006/01207_00002.ppm  \n",
            "  inflating: /content/New_data/00006/01209_00000.ppm  \n",
            "  inflating: /content/New_data/00006/01209_00001.ppm  \n",
            "  inflating: /content/New_data/00006/01209_00002.ppm  \n",
            "  inflating: /content/New_data/00006/01212_00000.ppm  \n",
            "  inflating: /content/New_data/00006/01212_00001.ppm  \n",
            "  inflating: /content/New_data/00006/01344_00001.ppm  \n",
            "  inflating: /content/New_data/00006/01344_00002.ppm  \n",
            "  inflating: /content/New_data/00006/01349_00000.ppm  \n",
            "  inflating: /content/New_data/00006/01349_00001.ppm  \n",
            "  inflating: /content/New_data/00006/01349_00002.ppm  \n",
            "  inflating: /content/New_data/00006/01355_00000.ppm  \n",
            "  inflating: /content/New_data/00006/01355_00001.ppm  \n",
            "  inflating: /content/New_data/00006/01355_00002.ppm  \n",
            "  inflating: /content/New_data/00006/01368_00000.ppm  \n",
            "  inflating: /content/New_data/00006/01368_00001.ppm  \n",
            "  inflating: /content/New_data/00006/01368_00002.ppm  \n",
            "  inflating: /content/New_data/00006/01513_00000.ppm  \n",
            "  inflating: /content/New_data/00006/01513_00001.ppm  \n",
            "  inflating: /content/New_data/00006/01513_00002.ppm  \n",
            "  inflating: /content/New_data/00006/01571_00000.ppm  \n",
            "  inflating: /content/New_data/00006/01571_00001.ppm  \n",
            "  inflating: /content/New_data/00006/01571_00002.ppm  \n",
            "  inflating: /content/New_data/00006/01749_00000.ppm  \n",
            "  inflating: /content/New_data/00006/01895_00000.ppm  \n",
            "  inflating: /content/New_data/00006/01895_00001.ppm  \n",
            "  inflating: /content/New_data/00006/01906_00000.ppm  \n",
            "  inflating: /content/New_data/00006/01906_00001.ppm  \n",
            "  inflating: /content/New_data/00006/01906_00002.ppm  \n",
            "  inflating: /content/New_data/00006/01928_00000.ppm  \n",
            "  inflating: /content/New_data/00006/01928_00001.ppm  \n",
            "  inflating: /content/New_data/00006/01928_00002.ppm  \n",
            "  inflating: /content/New_data/00006/01936_00000.ppm  \n",
            "  inflating: /content/New_data/00006/01936_00001.ppm  \n",
            "  inflating: /content/New_data/00006/01936_00002.ppm  \n",
            "  inflating: /content/New_data/00006/test.txt  \n",
            "  inflating: /content/New_data/00006/train.txt  \n",
            "  inflating: /content/New_data/00007/00019_00000.ppm  \n",
            "  inflating: /content/New_data/00007/00019_00001.ppm  \n",
            "  inflating: /content/New_data/00007/00019_00002.ppm  \n",
            "  inflating: /content/New_data/00007/00040_00000.ppm  \n",
            "  inflating: /content/New_data/00007/00040_00001.ppm  \n",
            "  inflating: /content/New_data/00007/00040_00002.ppm  \n",
            "  inflating: /content/New_data/00007/00094_00000.ppm  \n",
            "  inflating: /content/New_data/00007/00094_00001.ppm  \n",
            "  inflating: /content/New_data/00007/00094_00002.ppm  \n",
            "  inflating: /content/New_data/00007/00200_00000.ppm  \n",
            "  inflating: /content/New_data/00007/00200_00001.ppm  \n",
            "  inflating: /content/New_data/00007/00200_00002.ppm  \n",
            "  inflating: /content/New_data/00007/00292_00000.ppm  \n",
            "  inflating: /content/New_data/00007/00292_00001.ppm  \n",
            "  inflating: /content/New_data/00007/00292_00002.ppm  \n",
            "  inflating: /content/New_data/00007/00333_00000.ppm  \n",
            "  inflating: /content/New_data/00007/00333_00001.ppm  \n",
            "  inflating: /content/New_data/00007/00333_00002.ppm  \n",
            "  inflating: /content/New_data/00007/00407_00000.ppm  \n",
            "  inflating: /content/New_data/00007/00407_00001.ppm  \n",
            "  inflating: /content/New_data/00007/00407_00002.ppm  \n",
            "  inflating: /content/New_data/00007/00517_00000.ppm  \n",
            "  inflating: /content/New_data/00007/00517_00001.ppm  \n",
            "  inflating: /content/New_data/00007/00517_00002.ppm  \n",
            "  inflating: /content/New_data/00007/00589_00000.ppm  \n",
            "  inflating: /content/New_data/00007/00589_00001.ppm  \n",
            "  inflating: /content/New_data/00007/00589_00002.ppm  \n",
            "  inflating: /content/New_data/00007/00589_00008.ppm  \n",
            "  inflating: /content/New_data/00007/00589_00009.ppm  \n",
            "  inflating: /content/New_data/00007/00642_00000.ppm  \n",
            "  inflating: /content/New_data/00007/00642_00001.ppm  \n",
            "  inflating: /content/New_data/00007/00642_00002.ppm  \n",
            "  inflating: /content/New_data/00007/00662_00000.ppm  \n",
            "  inflating: /content/New_data/00007/00662_00001.ppm  \n",
            "  inflating: /content/New_data/00007/00662_00002.ppm  \n",
            "  inflating: /content/New_data/00007/00663_00000.ppm  \n",
            "  inflating: /content/New_data/00007/00663_00001.ppm  \n",
            "  inflating: /content/New_data/00007/00663_00002.ppm  \n",
            "  inflating: /content/New_data/00007/00779_00000.ppm  \n",
            "  inflating: /content/New_data/00007/00779_00001.ppm  \n",
            "  inflating: /content/New_data/00007/00779_00002.ppm  \n",
            "  inflating: /content/New_data/00007/00898_00000.ppm  \n",
            "  inflating: /content/New_data/00007/00898_00001.ppm  \n",
            "  inflating: /content/New_data/00007/00898_00002.ppm  \n",
            "  inflating: /content/New_data/00007/01031_00000.ppm  \n",
            "  inflating: /content/New_data/00007/01031_00002.ppm  \n",
            "  inflating: /content/New_data/00007/01035_00000.ppm  \n",
            "  inflating: /content/New_data/00007/01035_00001.ppm  \n",
            "  inflating: /content/New_data/00007/01308_00000.ppm  \n",
            "  inflating: /content/New_data/00007/01308_00001.ppm  \n",
            "  inflating: /content/New_data/00007/01308_00002.ppm  \n",
            "  inflating: /content/New_data/00007/01308_10000.ppm  \n",
            "  inflating: /content/New_data/00007/01357_00000.ppm  \n",
            "  inflating: /content/New_data/00007/01357_00001.ppm  \n",
            "  inflating: /content/New_data/00007/01357_00002.ppm  \n",
            "  inflating: /content/New_data/00007/01358_00000.ppm  \n",
            "  inflating: /content/New_data/00007/01358_00001.ppm  \n",
            "  inflating: /content/New_data/00007/01366_00000.ppm  \n",
            "  inflating: /content/New_data/00007/01366_00001.ppm  \n",
            "  inflating: /content/New_data/00007/01366_00002.ppm  \n",
            "  inflating: /content/New_data/00007/01372_00000.ppm  \n",
            "  inflating: /content/New_data/00007/01372_00001.ppm  \n",
            "  inflating: /content/New_data/00007/01375_00000.ppm  \n",
            "  inflating: /content/New_data/00007/01375_00001.ppm  \n",
            "  inflating: /content/New_data/00007/01399_00000.ppm  \n",
            "  inflating: /content/New_data/00007/01399_00001.ppm  \n",
            "  inflating: /content/New_data/00007/01399_00002.ppm  \n",
            "  inflating: /content/New_data/00007/01456_00000.ppm  \n",
            "  inflating: /content/New_data/00007/01456_00001.ppm  \n",
            "  inflating: /content/New_data/00007/01675_00000.ppm  \n",
            "  inflating: /content/New_data/00007/01675_00001.ppm  \n",
            "  inflating: /content/New_data/00007/01675_00002.ppm  \n",
            "  inflating: /content/New_data/00007/01678_00000.ppm  \n",
            "  inflating: /content/New_data/00007/01678_00001.ppm  \n",
            "  inflating: /content/New_data/00007/01678_00002.ppm  \n",
            "  inflating: /content/New_data/00007/01690_00000.ppm  \n",
            "  inflating: /content/New_data/00007/01690_00001.ppm  \n",
            "  inflating: /content/New_data/00007/01690_00002.ppm  \n",
            "  inflating: /content/New_data/00007/01708_00000.ppm  \n",
            "  inflating: /content/New_data/00007/01708_00001.ppm  \n",
            "  inflating: /content/New_data/00007/01708_00002.ppm  \n",
            "  inflating: /content/New_data/00007/01726_00000.ppm  \n",
            "  inflating: /content/New_data/00007/01726_00001.ppm  \n",
            "  inflating: /content/New_data/00007/01726_00002.ppm  \n",
            "  inflating: /content/New_data/00007/01806_00000.ppm  \n",
            "  inflating: /content/New_data/00007/01806_00001.ppm  \n",
            "  inflating: /content/New_data/00007/01806_00002.ppm  \n",
            "  inflating: /content/New_data/00007/01896_00000.ppm  \n",
            "  inflating: /content/New_data/00007/01896_00001.ppm  \n",
            "  inflating: /content/New_data/00007/01896_00002.ppm  \n",
            "  inflating: /content/New_data/00007/01896_00004.ppm  \n",
            "  inflating: /content/New_data/00007/01897_00000.ppm  \n",
            "  inflating: /content/New_data/00007/01897_00001.ppm  \n",
            "  inflating: /content/New_data/00007/01897_00002.ppm  \n",
            "  inflating: /content/New_data/00007/01901_00000.ppm  \n",
            "  inflating: /content/New_data/00007/01901_00001.ppm  \n",
            "  inflating: /content/New_data/00007/01901_00002.ppm  \n",
            "  inflating: /content/New_data/00007/01904_00000.ppm  \n",
            "  inflating: /content/New_data/00007/01904_00001.ppm  \n",
            "  inflating: /content/New_data/00007/01904_00002.ppm  \n",
            "  inflating: /content/New_data/00007/test.txt  \n",
            "  inflating: /content/New_data/00007/train.txt  \n",
            "  inflating: /content/New_data/00008/00004_00000.ppm  \n",
            "  inflating: /content/New_data/00008/00004_00001.ppm  \n",
            "  inflating: /content/New_data/00008/00049_00000.ppm  \n",
            "  inflating: /content/New_data/00008/00049_00001.ppm  \n",
            "  inflating: /content/New_data/00008/00049_00002.ppm  \n",
            "  inflating: /content/New_data/00008/00059_00000.ppm  \n",
            "  inflating: /content/New_data/00008/00059_00001.ppm  \n",
            "  inflating: /content/New_data/00008/00061_00000.ppm  \n",
            "  inflating: /content/New_data/00008/00061_00001.ppm  \n",
            "  inflating: /content/New_data/00008/00061_00002.ppm  \n",
            "  inflating: /content/New_data/00008/00067_00000.ppm  \n",
            "  inflating: /content/New_data/00008/00067_00001.ppm  \n",
            "  inflating: /content/New_data/00008/00067_00002.ppm  \n",
            "  inflating: /content/New_data/00008/00075_00000.ppm  \n",
            "  inflating: /content/New_data/00008/00075_00001.ppm  \n",
            "  inflating: /content/New_data/00008/00075_00002.ppm  \n",
            "  inflating: /content/New_data/00008/00171_00001.ppm  \n",
            "  inflating: /content/New_data/00008/00171_00002.ppm  \n",
            "  inflating: /content/New_data/00008/00392_00000.ppm  \n",
            "  inflating: /content/New_data/00008/00392_00001.ppm  \n",
            "  inflating: /content/New_data/00008/00392_00002.ppm  \n",
            "  inflating: /content/New_data/00008/00393_00000.ppm  \n",
            "  inflating: /content/New_data/00008/00393_00001.ppm  \n",
            "  inflating: /content/New_data/00008/00393_00002.ppm  \n",
            "  inflating: /content/New_data/00008/00395_00000.ppm  \n",
            "  inflating: /content/New_data/00008/00395_00002.ppm  \n",
            "  inflating: /content/New_data/00008/00406_00000.ppm  \n",
            "  inflating: /content/New_data/00008/00406_00001.ppm  \n",
            "  inflating: /content/New_data/00008/00406_00002.ppm  \n",
            "  inflating: /content/New_data/00008/00416_00000.ppm  \n",
            "  inflating: /content/New_data/00008/00418_00000.ppm  \n",
            "  inflating: /content/New_data/00008/00418_00001.ppm  \n",
            "  inflating: /content/New_data/00008/00418_00002.ppm  \n",
            "  inflating: /content/New_data/00008/00434_00001.ppm  \n",
            "  inflating: /content/New_data/00008/00438_00001.ppm  \n",
            "  inflating: /content/New_data/00008/00452_00000.ppm  \n",
            "  inflating: /content/New_data/00008/00452_00001.ppm  \n",
            "  inflating: /content/New_data/00008/00452_00002.ppm  \n",
            "  inflating: /content/New_data/00008/00453_00000.ppm  \n",
            "  inflating: /content/New_data/00008/00453_00001.ppm  \n",
            "  inflating: /content/New_data/00008/00462_00000.ppm  \n",
            "  inflating: /content/New_data/00008/00462_00001.ppm  \n",
            "  inflating: /content/New_data/00008/00462_00002.ppm  \n",
            "  inflating: /content/New_data/00008/00463_00000.ppm  \n",
            "  inflating: /content/New_data/00008/00463_00001.ppm  \n",
            "  inflating: /content/New_data/00008/00463_00002.ppm  \n",
            "  inflating: /content/New_data/00008/00466_00000.ppm  \n",
            "  inflating: /content/New_data/00008/00466_00001.ppm  \n",
            "  inflating: /content/New_data/00008/00466_00002.ppm  \n",
            "  inflating: /content/New_data/00008/00653_00000.ppm  \n",
            "  inflating: /content/New_data/00008/00653_00001.ppm  \n",
            "  inflating: /content/New_data/00008/00653_00002.ppm  \n",
            "  inflating: /content/New_data/00008/00655_00000.ppm  \n",
            "  inflating: /content/New_data/00008/00655_00001.ppm  \n",
            "  inflating: /content/New_data/00008/00655_00002.ppm  \n",
            "  inflating: /content/New_data/00008/00686_00002.ppm  \n",
            "  inflating: /content/New_data/00008/00694_00000.ppm  \n",
            "  inflating: /content/New_data/00008/00694_00001.ppm  \n",
            "  inflating: /content/New_data/00008/00694_00002.ppm  \n",
            "  inflating: /content/New_data/00008/00714_00000.ppm  \n",
            "  inflating: /content/New_data/00008/00714_00001.ppm  \n",
            "  inflating: /content/New_data/00008/00740_00000.ppm  \n",
            "  inflating: /content/New_data/00008/00740_00001.ppm  \n",
            "  inflating: /content/New_data/00008/00740_00002.ppm  \n",
            "  inflating: /content/New_data/00008/00751_00000.ppm  \n",
            "  inflating: /content/New_data/00008/00751_00002.ppm  \n",
            "  inflating: /content/New_data/00008/00764_00000.ppm  \n",
            "  inflating: /content/New_data/00008/00764_00001.ppm  \n",
            "  inflating: /content/New_data/00008/00764_00002.ppm  \n",
            "  inflating: /content/New_data/00008/00772_00000.ppm  \n",
            "  inflating: /content/New_data/00008/00772_00001.ppm  \n",
            "  inflating: /content/New_data/00008/00772_00002.ppm  \n",
            "  inflating: /content/New_data/00008/00774_00000.ppm  \n",
            "  inflating: /content/New_data/00008/00774_00001.ppm  \n",
            "  inflating: /content/New_data/00008/00796_00000.ppm  \n",
            "  inflating: /content/New_data/00008/00796_00001.ppm  \n",
            "  inflating: /content/New_data/00008/00796_00002.ppm  \n",
            "  inflating: /content/New_data/00008/00822_00000.ppm  \n",
            "  inflating: /content/New_data/00008/00861_00000.ppm  \n",
            "  inflating: /content/New_data/00008/00861_00001.ppm  \n",
            "  inflating: /content/New_data/00008/00862_00000.ppm  \n",
            "  inflating: /content/New_data/00008/00862_00001.ppm  \n",
            "  inflating: /content/New_data/00008/00862_00002.ppm  \n",
            "  inflating: /content/New_data/00008/00904_00000.ppm  \n",
            "  inflating: /content/New_data/00008/01000_00002.ppm  \n",
            "  inflating: /content/New_data/00008/01029_00001.ppm  \n",
            "  inflating: /content/New_data/00008/01029_00002.ppm  \n",
            "  inflating: /content/New_data/00008/01129_00000.ppm  \n",
            "  inflating: /content/New_data/00008/01919_00001.ppm  \n",
            "  inflating: /content/New_data/00008/01919_00002.ppm  \n",
            "  inflating: /content/New_data/00008/01953_00000.ppm  \n",
            "  inflating: /content/New_data/00008/01953_00001.ppm  \n",
            "  inflating: /content/New_data/00008/01953_00002.ppm  \n",
            "  inflating: /content/New_data/00008/01954_00001.ppm  \n",
            "  inflating: /content/New_data/00008/01954_00002.ppm  \n",
            "  inflating: /content/New_data/00008/01961_00000.ppm  \n",
            "  inflating: /content/New_data/00008/01961_00001.ppm  \n",
            "  inflating: /content/New_data/00008/01961_00002.ppm  \n",
            "  inflating: /content/New_data/00008/01963_00000.ppm  \n",
            "  inflating: /content/New_data/00008/01963_00001.ppm  \n",
            "  inflating: /content/New_data/00008/test.txt  \n",
            "  inflating: /content/New_data/00008/train.txt  \n",
            "  inflating: /content/New_data/00009/00622_00000.ppm  \n",
            "  inflating: /content/New_data/00009/00622_00001.ppm  \n",
            "  inflating: /content/New_data/00009/00622_00002.ppm  \n",
            "  inflating: /content/New_data/00009/00628_00000.ppm  \n",
            "  inflating: /content/New_data/00009/00628_00001.ppm  \n",
            "  inflating: /content/New_data/00009/00628_00002.ppm  \n",
            "  inflating: /content/New_data/00009/00629_00000.ppm  \n",
            "  inflating: /content/New_data/00009/00629_00001.ppm  \n",
            "  inflating: /content/New_data/00009/00629_00002.ppm  \n",
            "  inflating: /content/New_data/00009/00640_00000.ppm  \n",
            "  inflating: /content/New_data/00009/00640_00001.ppm  \n",
            "  inflating: /content/New_data/00009/00640_00002.ppm  \n",
            "  inflating: /content/New_data/00009/00643_00000.ppm  \n",
            "  inflating: /content/New_data/00009/00643_00001.ppm  \n",
            "  inflating: /content/New_data/00009/00643_00002.ppm  \n",
            "  inflating: /content/New_data/00009/00648_00000.ppm  \n",
            "  inflating: /content/New_data/00009/00648_00001.ppm  \n",
            "  inflating: /content/New_data/00009/00648_00002.ppm  \n",
            "  inflating: /content/New_data/00009/00651_00000.ppm  \n",
            "  inflating: /content/New_data/00009/00651_00001.ppm  \n",
            "  inflating: /content/New_data/00009/00651_00002.ppm  \n",
            "  inflating: /content/New_data/00009/00678_00000.ppm  \n",
            "  inflating: /content/New_data/00009/00678_00001.ppm  \n",
            "  inflating: /content/New_data/00009/00678_00002.ppm  \n",
            "  inflating: /content/New_data/00009/00923_00000.ppm  \n",
            "  inflating: /content/New_data/00009/00923_00001.ppm  \n",
            "  inflating: /content/New_data/00009/00923_00002.ppm  \n",
            "  inflating: /content/New_data/00009/00924_00000.ppm  \n",
            "  inflating: /content/New_data/00009/00924_00001.ppm  \n",
            "  inflating: /content/New_data/00009/00924_00002.ppm  \n",
            "  inflating: /content/New_data/00009/00934_00000.ppm  \n",
            "  inflating: /content/New_data/00009/00934_00001.ppm  \n",
            "  inflating: /content/New_data/00009/00934_00002.ppm  \n",
            "  inflating: /content/New_data/00009/00940_00000.ppm  \n",
            "  inflating: /content/New_data/00009/00940_00001.ppm  \n",
            "  inflating: /content/New_data/00009/00940_00002.ppm  \n",
            "  inflating: /content/New_data/00009/00955_00000.ppm  \n",
            "  inflating: /content/New_data/00009/00955_00001.ppm  \n",
            "  inflating: /content/New_data/00009/00955_00002.ppm  \n",
            "  inflating: /content/New_data/00009/00958_00001.ppm  \n",
            "  inflating: /content/New_data/00009/00958_00002.ppm  \n",
            "  inflating: /content/New_data/00009/00962_00000.ppm  \n",
            "  inflating: /content/New_data/00009/01005_00002.ppm  \n",
            "  inflating: /content/New_data/00009/01011_00000.ppm  \n",
            "  inflating: /content/New_data/00009/01011_00001.ppm  \n",
            "  inflating: /content/New_data/00009/01011_00002.ppm  \n",
            "  inflating: /content/New_data/00009/01037_00000.ppm  \n",
            "  inflating: /content/New_data/00009/01037_00001.ppm  \n",
            "  inflating: /content/New_data/00009/01037_00002.ppm  \n",
            "  inflating: /content/New_data/00009/01098_00000.ppm  \n",
            "  inflating: /content/New_data/00009/01098_00001.ppm  \n",
            "  inflating: /content/New_data/00009/01098_00002.ppm  \n",
            "  inflating: /content/New_data/00009/01100_00000.ppm  \n",
            "  inflating: /content/New_data/00009/01100_00001.ppm  \n",
            "  inflating: /content/New_data/00009/01100_00002.ppm  \n",
            "  inflating: /content/New_data/00009/01100_00003.ppm  \n",
            "  inflating: /content/New_data/00009/01104_00000.ppm  \n",
            "  inflating: /content/New_data/00009/01104_00001.ppm  \n",
            "  inflating: /content/New_data/00009/01104_00002.ppm  \n",
            "  inflating: /content/New_data/00009/01235_00000.ppm  \n",
            "  inflating: /content/New_data/00009/01235_00001.ppm  \n",
            "  inflating: /content/New_data/00009/01235_00002.ppm  \n",
            "  inflating: /content/New_data/00009/01242_00000.ppm  \n",
            "  inflating: /content/New_data/00009/01242_00001.ppm  \n",
            "  inflating: /content/New_data/00009/01242_00002.ppm  \n",
            "  inflating: /content/New_data/00009/01261_00000.ppm  \n",
            "  inflating: /content/New_data/00009/01261_00001.ppm  \n",
            "  inflating: /content/New_data/00009/01777_00001.ppm  \n",
            "  inflating: /content/New_data/00009/01777_00002.ppm  \n",
            "  inflating: /content/New_data/00009/01838_00000.ppm  \n",
            "  inflating: /content/New_data/00009/01838_00001.ppm  \n",
            "  inflating: /content/New_data/00009/01861_00001.ppm  \n",
            "  inflating: /content/New_data/00009/01862_00001.ppm  \n",
            "  inflating: /content/New_data/00009/01862_00002.ppm  \n",
            "  inflating: /content/New_data/00009/01863_00000.ppm  \n",
            "  inflating: /content/New_data/00009/01863_00001.ppm  \n",
            "  inflating: /content/New_data/00009/01863_00002.ppm  \n",
            "  inflating: /content/New_data/00009/01864_00000.ppm  \n",
            "  inflating: /content/New_data/00009/01864_00001.ppm  \n",
            "  inflating: /content/New_data/00009/01864_00002.ppm  \n",
            "  inflating: /content/New_data/00009/01870_00001.ppm  \n",
            "  inflating: /content/New_data/00009/01870_00002.ppm  \n",
            "  inflating: /content/New_data/00009/01871_00000.ppm  \n",
            "  inflating: /content/New_data/00009/01871_00001.ppm  \n",
            "  inflating: /content/New_data/00009/01871_00002.ppm  \n",
            "  inflating: /content/New_data/00009/01883_00000.ppm  \n",
            "  inflating: /content/New_data/00009/01883_00001.ppm  \n",
            "  inflating: /content/New_data/00009/01883_00002.ppm  \n",
            "  inflating: /content/New_data/00009/01894_00000.ppm  \n",
            "  inflating: /content/New_data/00009/01894_00001.ppm  \n",
            "  inflating: /content/New_data/00009/01909_00000.ppm  \n",
            "  inflating: /content/New_data/00009/01909_00002.ppm  \n",
            "  inflating: /content/New_data/00009/01910_00001.ppm  \n",
            "  inflating: /content/New_data/00009/01910_00002.ppm  \n",
            "  inflating: /content/New_data/00009/01929_00000.ppm  \n",
            "  inflating: /content/New_data/00009/01929_00001.ppm  \n",
            "  inflating: /content/New_data/00009/01929_00002.ppm  \n",
            "  inflating: /content/New_data/00009/01935_00000.ppm  \n",
            "  inflating: /content/New_data/00009/01935_00001.ppm  \n",
            "  inflating: /content/New_data/00009/01935_00002.ppm  \n",
            "  inflating: /content/New_data/00009/test.txt  \n",
            "  inflating: /content/New_data/00009/train.txt  \n",
            "  inflating: /content/New_data/00010/00022_00000.ppm  \n",
            "  inflating: /content/New_data/00010/00022_00001.ppm  \n",
            "  inflating: /content/New_data/00010/00022_00002.ppm  \n",
            "  inflating: /content/New_data/00010/00030_00000.ppm  \n",
            "  inflating: /content/New_data/00010/00030_00001.ppm  \n",
            "  inflating: /content/New_data/00010/00448_00000.ppm  \n",
            "  inflating: /content/New_data/00010/00448_00001.ppm  \n",
            "  inflating: /content/New_data/00010/00448_00002.ppm  \n",
            "  inflating: /content/New_data/00010/00452_00000.ppm  \n",
            "  inflating: /content/New_data/00010/00452_00002.ppm  \n",
            "  inflating: /content/New_data/00010/00460_00000.ppm  \n",
            "  inflating: /content/New_data/00010/00460_00001.ppm  \n",
            "  inflating: /content/New_data/00010/00460_00002.ppm  \n",
            "  inflating: /content/New_data/00010/00464_00000.ppm  \n",
            "  inflating: /content/New_data/00010/00464_00001.ppm  \n",
            "  inflating: /content/New_data/00010/00464_00002.ppm  \n",
            "  inflating: /content/New_data/00010/00479_00000.ppm  \n",
            "  inflating: /content/New_data/00010/00479_00001.ppm  \n",
            "  inflating: /content/New_data/00010/00525_00000.ppm  \n",
            "  inflating: /content/New_data/00010/00525_00001.ppm  \n",
            "  inflating: /content/New_data/00010/00525_00002.ppm  \n",
            "  inflating: /content/New_data/00010/00530_00000.ppm  \n",
            "  inflating: /content/New_data/00010/00530_00001.ppm  \n",
            "  inflating: /content/New_data/00010/00530_00002.ppm  \n",
            "  inflating: /content/New_data/00010/00543_00000.ppm  \n",
            "  inflating: /content/New_data/00010/00543_00001.ppm  \n",
            "  inflating: /content/New_data/00010/00543_00002.ppm  \n",
            "  inflating: /content/New_data/00010/00708_00001.ppm  \n",
            "  inflating: /content/New_data/00010/00708_00002.ppm  \n",
            "  inflating: /content/New_data/00010/00711_00000.ppm  \n",
            "  inflating: /content/New_data/00010/00711_00001.ppm  \n",
            "  inflating: /content/New_data/00010/00711_00002.ppm  \n",
            "  inflating: /content/New_data/00010/00731_00000.ppm  \n",
            "  inflating: /content/New_data/00010/00731_00001.ppm  \n",
            "  inflating: /content/New_data/00010/00731_00002.ppm  \n",
            "  inflating: /content/New_data/00010/00744_00000.ppm  \n",
            "  inflating: /content/New_data/00010/00744_00002.ppm  \n",
            "  inflating: /content/New_data/00010/00765_00000.ppm  \n",
            "  inflating: /content/New_data/00010/00765_00001.ppm  \n",
            "  inflating: /content/New_data/00010/00765_00002.ppm  \n",
            "  inflating: /content/New_data/00010/00767_00000.ppm  \n",
            "  inflating: /content/New_data/00010/00767_00001.ppm  \n",
            "  inflating: /content/New_data/00010/00767_00002.ppm  \n",
            "  inflating: /content/New_data/00010/00797_00000.ppm  \n",
            "  inflating: /content/New_data/00010/00797_00001.ppm  \n",
            "  inflating: /content/New_data/00010/00817_00001.ppm  \n",
            "  inflating: /content/New_data/00010/00817_00002.ppm  \n",
            "  inflating: /content/New_data/00010/00819_00000.ppm  \n",
            "  inflating: /content/New_data/00010/00819_00001.ppm  \n",
            "  inflating: /content/New_data/00010/00826_00000.ppm  \n",
            "  inflating: /content/New_data/00010/00826_00001.ppm  \n",
            "  inflating: /content/New_data/00010/00826_00002.ppm  \n",
            "  inflating: /content/New_data/00010/00829_00002.ppm  \n",
            "  inflating: /content/New_data/00010/00853_00000.ppm  \n",
            "  inflating: /content/New_data/00010/00853_00001.ppm  \n",
            "  inflating: /content/New_data/00010/00853_00002.ppm  \n",
            "  inflating: /content/New_data/00010/00862_00000.ppm  \n",
            "  inflating: /content/New_data/00010/00862_00001.ppm  \n",
            "  inflating: /content/New_data/00010/00863_00000.ppm  \n",
            "  inflating: /content/New_data/00010/00913_00000.ppm  \n",
            "  inflating: /content/New_data/00010/00913_00001.ppm  \n",
            "  inflating: /content/New_data/00010/00990_00000.ppm  \n",
            "  inflating: /content/New_data/00010/00990_00001.ppm  \n",
            "  inflating: /content/New_data/00010/00990_00002.ppm  \n",
            "  inflating: /content/New_data/00010/00993_00000.ppm  \n",
            "  inflating: /content/New_data/00010/00993_00001.ppm  \n",
            "  inflating: /content/New_data/00010/00993_00002.ppm  \n",
            "  inflating: /content/New_data/00010/00997_00000.ppm  \n",
            "  inflating: /content/New_data/00010/00997_00001.ppm  \n",
            "  inflating: /content/New_data/00010/00997_00002.ppm  \n",
            "  inflating: /content/New_data/00010/01025_00001.ppm  \n",
            "  inflating: /content/New_data/00010/01025_00002.ppm  \n",
            "  inflating: /content/New_data/00010/01027_00000.ppm  \n",
            "  inflating: /content/New_data/00010/01027_00001.ppm  \n",
            "  inflating: /content/New_data/00010/01027_00002.ppm  \n",
            "  inflating: /content/New_data/00010/01177_00000.ppm  \n",
            "  inflating: /content/New_data/00010/01178_00001.ppm  \n",
            "  inflating: /content/New_data/00010/01179_00000.ppm  \n",
            "  inflating: /content/New_data/00010/01179_00001.ppm  \n",
            "  inflating: /content/New_data/00010/01297_00000.ppm  \n",
            "  inflating: /content/New_data/00010/01297_00001.ppm  \n",
            "  inflating: /content/New_data/00010/01297_00002.ppm  \n",
            "  inflating: /content/New_data/00010/01333_00000.ppm  \n",
            "  inflating: /content/New_data/00010/01412_00001.ppm  \n",
            "  inflating: /content/New_data/00010/01795_00001.ppm  \n",
            "  inflating: /content/New_data/00010/01795_00002.ppm  \n",
            "  inflating: /content/New_data/00010/01819_00000.ppm  \n",
            "  inflating: /content/New_data/00010/01819_00001.ppm  \n",
            "  inflating: /content/New_data/00010/01819_00002.ppm  \n",
            "  inflating: /content/New_data/00010/01821_00000.ppm  \n",
            "  inflating: /content/New_data/00010/01821_00001.ppm  \n",
            "  inflating: /content/New_data/00010/01821_00002.ppm  \n",
            "  inflating: /content/New_data/00010/01822_00000.ppm  \n",
            "  inflating: /content/New_data/00010/01822_00002.ppm  \n",
            "  inflating: /content/New_data/00010/01825_00000.ppm  \n",
            "  inflating: /content/New_data/00010/01826_00000.ppm  \n",
            "  inflating: /content/New_data/00010/01826_00002.ppm  \n",
            "  inflating: /content/New_data/00010/01827_00000.ppm  \n",
            "  inflating: /content/New_data/00010/01827_00001.ppm  \n",
            "  inflating: /content/New_data/00010/01827_00002.ppm  \n",
            "  inflating: /content/New_data/00010/test.txt  \n",
            "  inflating: /content/New_data/00010/train.txt  \n"
          ]
        }
      ],
      "source": [
        "!unzip /content/'CS67_Fall2022_ A1_Dataset.zip' -d /content/New_data"
      ]
    },
    {
      "cell_type": "markdown",
      "metadata": {
        "id": "qOCaa_3hLqcY"
      },
      "source": [
        "Creating training and test data csv files"
      ]
    },
    {
      "cell_type": "code",
      "execution_count": 89,
      "metadata": {
        "id": "yNo6IwFL1IaQ"
      },
      "outputs": [],
      "source": [
        "label=0\n",
        "for dir in os.listdir('/content/New_data'):\n",
        "    label=int(dir)\n",
        "    #opening the train text file from each folder\n",
        "    f = open('/content/New_data/'+str(dir)+'/train.txt', \"r\")\n",
        "    line=f.readlines()\n",
        "    #For every folder, read the train.txt file and store the path of the images into train_data.csv file\n",
        "    with open('train_data.csv', 'a', newline='') as file:\n",
        "       writer = csv.writer(file)\n",
        "       for i in range(0,len(line)):\n",
        "         writer.writerow(['/content/New_data/'+str(dir)+'/'+str(line[i][:-1]), label])\n",
        "    f.close()\n",
        "    "
      ]
    },
    {
      "cell_type": "code",
      "execution_count": 90,
      "metadata": {
        "id": "F-SsDX-XPpQ5"
      },
      "outputs": [],
      "source": [
        "#Repeating the above steps for the test data\n",
        "for dir in os.listdir('/content/New_data'): \n",
        "    # Labels are assigned according to the folder names\n",
        "     label=int(dir)\n",
        "     # opening the test text file from each folder\n",
        "     f = open('/content/New_data/'+str(dir)+'/test.txt', \"r\")  \n",
        "     line2=f.readlines()     \n",
        "     #For every folder, read the test.txt file and store the path of the images into test_data.csv file\n",
        "     with open('test_data.csv', 'a', newline='') as file:\n",
        "      writer = csv.writer(file)\n",
        "      for i in range(0,len(line2)):\n",
        "         writer.writerow(['/content/New_data/'+str(dir)+'/'+str(line2[i][:-1]), label])\n",
        "     f.close()\n"
      ]
    },
    {
      "cell_type": "markdown",
      "metadata": {
        "id": "qlRzBerfL3iP"
      },
      "source": [
        " Reading train and test images and their respective labels"
      ]
    },
    {
      "cell_type": "code",
      "execution_count": 91,
      "metadata": {
        "colab": {
          "base_uri": "https://localhost:8080/"
        },
        "id": "cCOpfaTZ1LB1",
        "outputId": "71b14703-0d72-4ba4-e79b-983c7885431f"
      },
      "outputs": [
        {
          "output_type": "stream",
          "name": "stdout",
          "text": [
            "800\n",
            "800\n"
          ]
        }
      ],
      "source": [
        "train_im=[]\n",
        "train_labels=[]\n",
        "test_im=[]\n",
        "test_labels=[]\n",
        "#Read the train and test data csv files\n",
        "train_read=pd.read_csv('train_data.csv', sep=',',header=None)\n",
        "test_read=pd.read_csv('test_data.csv', sep=',',header=None)\n",
        "for i in range(0,len(train_read)):\n",
        "  #reading train images \n",
        "  img=cv2.imread(train_read[0][i])\n",
        "  #grayscale\n",
        "  img = cv2.cvtColor(img, cv2.COLOR_RGB2GRAY)\n",
        "  #resize\n",
        "  img=cv2.resize(img,(90,90))\n",
        "  #histogram equivalization\n",
        "  img = cv2.equalizeHist(img)\n",
        "  # Append the images to train_im\n",
        "  train_im.append(img)\n",
        "  # append the labels to the train_labels\n",
        "  train_labels.append(train_read[1][i])\n",
        "print(len(train_labels))\n",
        "print(len(train_im))"
      ]
    },
    {
      "cell_type": "code",
      "execution_count": 92,
      "metadata": {
        "colab": {
          "base_uri": "https://localhost:8080/"
        },
        "id": "FbdmXtDqTsBW",
        "outputId": "00565085-8aef-42ef-bbfd-d70e02458d9e"
      },
      "outputs": [
        {
          "output_type": "stream",
          "name": "stdout",
          "text": [
            "200\n"
          ]
        }
      ],
      "source": [
        "#Repeating the above steps for the test data\n",
        "for i in range(0,len(test_read)):\n",
        "  #reading test images \n",
        "  img=cv2.imread(test_read[0][i])\n",
        "  #grayscale\n",
        "  img = cv2.cvtColor(img, cv2.COLOR_RGB2GRAY)\n",
        "  #resize\n",
        "  img=cv2.resize(img,(90,90))\n",
        "  #histogram equivalization\n",
        "  img = cv2.equalizeHist(img)\n",
        "  #Append the images to test_im\n",
        "  test_im.append(img)\n",
        "  #append the labels to the test_set_labels\n",
        "  test_labels.append(test_read[1][i])\n",
        "\n",
        "print(len(test_im))"
      ]
    },
    {
      "cell_type": "markdown",
      "metadata": {
        "id": "NPD9wpnCyUHN"
      },
      "source": [
        "# **Using Fast and ORB for Feature Extraction and SVM for Classification**\n",
        "# ** The Chosen Method for the Implementation of the Task **"
      ]
    },
    {
      "cell_type": "markdown",
      "metadata": {
        "id": "tUowmKJ0hkQI"
      },
      "source": [
        "## **Feature Extraction using Fast and Orb**"
      ]
    },
    {
      "cell_type": "code",
      "execution_count": 93,
      "metadata": {
        "colab": {
          "base_uri": "https://localhost:8080/"
        },
        "id": "tnUTOLdl3kDY",
        "outputId": "37e22042-46e8-4d72-ff98-a3f996111284"
      },
      "outputs": [
        {
          "output_type": "stream",
          "name": "stdout",
          "text": [
            "800\n"
          ]
        }
      ],
      "source": [
        "descriptors=[]\n",
        "keypoints=[]\n",
        "y_train=[]\n",
        "fast = cv2.FastFeatureDetector_create()\n",
        "fast.setNonmaxSuppression(False)\n",
        "#creating ORB object\n",
        "orb=cv2.ORB_create(nfeatures=100)\n",
        "for i in range(0,len(train_im)):\n",
        "    #Using Fast to extract key points\n",
        "    kp=fast.detect(train_im[i],None)\n",
        "    #Using ORB  to find descriptors\n",
        "    kp,descriptor= orb.compute(train_im[i], kp)\n",
        "    \n",
        "    if(len(kp)!=0):\n",
        "      #append the descriptors to the descriptors list\n",
        "      descriptors.append(descriptor)\n",
        "      #append the keypoints to the keypoint list\n",
        "      keypoints.append(kp)\n",
        "      y_train.append(train_read[1][i])\n",
        "\n",
        "print(len(y_train))"
      ]
    },
    {
      "cell_type": "code",
      "execution_count": 94,
      "metadata": {
        "colab": {
          "base_uri": "https://localhost:8080/"
        },
        "id": "ONhXc2frhmrX",
        "outputId": "6468c043-ebfc-4fe3-a2c6-d20783f21797"
      },
      "outputs": [
        {
          "output_type": "stream",
          "name": "stdout",
          "text": [
            "800\n"
          ]
        }
      ],
      "source": [
        "#descriptor stacking\n",
        "ds=descriptors[0]\n",
        "for descriptor in descriptors[1:]:\n",
        "    ds=np.vstack((ds,descriptor))\n",
        "print(len(y_train))"
      ]
    },
    {
      "cell_type": "markdown",
      "metadata": {
        "id": "m5SYmxTWPcXQ"
      },
      "source": [
        "Clustering on descriptors"
      ]
    },
    {
      "cell_type": "code",
      "execution_count": 95,
      "metadata": {
        "id": "W58A6xcxlgAO"
      },
      "outputs": [],
      "source": [
        "descriptors_float=ds.astype(float)\n",
        "#setting number of clusters=160\n",
        "k=160 \n",
        "voc,variance=kmeans(descriptors_float,k,1)\n",
        "im_features=np.zeros((len(descriptors),k),\"float32\")\n",
        "for i in range(len(descriptors)):\n",
        "    words,distance=vq(descriptors[i],voc)\n",
        "    for w in words:\n",
        "        im_features[i][w]+=1"
      ]
    },
    {
      "cell_type": "markdown",
      "metadata": {
        "id": "bGrXz3D6AUgX"
      },
      "source": [
        "# **Training**"
      ]
    },
    {
      "cell_type": "markdown",
      "metadata": {
        "id": "o6ZjLOfWlGnZ"
      },
      "source": [
        "Fitting SVM "
      ]
    },
    {
      "cell_type": "code",
      "execution_count": 96,
      "metadata": {
        "colab": {
          "base_uri": "https://localhost:8080/"
        },
        "id": "eFH16TeflIxh",
        "outputId": "f9440c57-e35c-4522-e560-c54ac91b1ceb"
      },
      "outputs": [
        {
          "output_type": "execute_result",
          "data": {
            "text/plain": [
              "LinearSVC(max_iter=90000)"
            ]
          },
          "metadata": {},
          "execution_count": 96
        }
      ],
      "source": [
        "clf=LinearSVC(max_iter=90000)\n",
        "clf.fit(im_features,np.array(y_train))"
      ]
    },
    {
      "cell_type": "markdown",
      "metadata": {
        "id": "dxmBkIOc_JKt"
      },
      "source": [
        "## **Testing**\n"
      ]
    },
    {
      "cell_type": "markdown",
      "metadata": {
        "id": "G4q_2cuQhStf"
      },
      "source": [
        "The pipeline for training is now repeated for the test data\n",
        "\n"
      ]
    },
    {
      "cell_type": "code",
      "execution_count": 97,
      "metadata": {
        "colab": {
          "base_uri": "https://localhost:8080/"
        },
        "id": "UcQ8_lVO_O_O",
        "outputId": "a1ff4c46-5d71-4ead-a974-0f0fac9a0b1e"
      },
      "outputs": [
        {
          "output_type": "stream",
          "name": "stdout",
          "text": [
            "200\n",
            "200\n"
          ]
        }
      ],
      "source": [
        "des_test=[]\n",
        "test_set_labels=[]\n",
        "for i in range(0,len(test_im)):\n",
        "    kp=fast.detect(test_im[i],None)\n",
        "    kp, descriptor_test = orb.compute(test_im[i],  kp)\n",
        "    if(len(kp)!=0):\n",
        "      des_test.append(descriptor_test)\n",
        "      test_set_labels.append(test_labels[i])\n",
        "\n",
        "print(len(test_set_labels))\n",
        "print(len(test_im))"
      ]
    },
    {
      "cell_type": "code",
      "execution_count": 98,
      "metadata": {
        "id": "I5-U--cOCoVL"
      },
      "outputs": [],
      "source": [
        "test_ds=des_test[0]\n",
        "#stacking all the descriptors for test data\n",
        "for descriptor in des_test[1:]:\n",
        "    test_ds=np.vstack((test_ds,descriptor))"
      ]
    },
    {
      "cell_type": "code",
      "execution_count": 99,
      "metadata": {
        "id": "H-LOcaKq_tfm"
      },
      "outputs": [],
      "source": [
        "#calculating features for test data\n",
        "test_features=np.zeros((len(test_set_labels),k),\"float32\")\n",
        "for i in range(len(test_set_labels)):\n",
        "    words,distance=vq(des_test[i],voc)\n",
        "    for w in words:\n",
        "        test_features[i][w]+=1"
      ]
    },
    {
      "cell_type": "markdown",
      "metadata": {
        "id": "Kx-RJiCio2_Y"
      },
      "source": [
        "# **Prediction**"
      ]
    },
    {
      "cell_type": "code",
      "execution_count": 100,
      "metadata": {
        "id": "VTd-kK_34rmh"
      },
      "outputs": [],
      "source": [
        "test_predict_classes=[]\n",
        "#running model on test features for predictions\n",
        "for i in clf.predict(test_features):\n",
        "        test_predict_classes.append(i)"
      ]
    },
    {
      "cell_type": "markdown",
      "metadata": {
        "id": "gRaOpW3vgahD"
      },
      "source": [
        "# **Quatitative and Qualitative Results**"
      ]
    },
    {
      "cell_type": "code",
      "execution_count": 101,
      "metadata": {
        "id": "_u-bFpBDDyQ8"
      },
      "outputs": [],
      "source": [
        "TP=0\n",
        "test_images_misclassified=[]\n",
        "test_labels_misclassified=[]\n",
        "actual_labels=[]\n",
        "correct_class_im=[]\n",
        "correct_class_labels=[]\n",
        "for i in range(0,len(test_predict_classes)):\n",
        "  \n",
        "  if(test_set_labels[i]==test_predict_classes[i]):\n",
        "    TP+=1\n",
        "    correct_class_im.append(test_im[i])\n",
        "    correct_class_labels.append(test_predict_classes[i])\n",
        "  else:\n",
        "    test_images_misclassified.append(test_im[i])\n",
        "    test_labels_misclassified.append(test_predict_classes[i])\n",
        "    actual_labels.append(test_set_labels[i])\n"
      ]
    },
    {
      "cell_type": "markdown",
      "source": [
        "Quantitative Scores\n"
      ],
      "metadata": {
        "id": "Z576VBIb8AKD"
      }
    },
    {
      "cell_type": "code",
      "execution_count": 102,
      "metadata": {
        "colab": {
          "base_uri": "https://localhost:8080/"
        },
        "id": "-Qu2hHZcTfhc",
        "outputId": "2e7aade9-2ddd-4bbb-8338-31af34db3511"
      },
      "outputs": [
        {
          "output_type": "stream",
          "name": "stdout",
          "text": [
            "Accuracy:  90.0\n",
            "F1 Score:  0.9010100062539086\n",
            "Precision Score: 0.9064642857142857\n",
            "Recall Score: 0.9\n",
            "True Positive:  180\n"
          ]
        }
      ],
      "source": [
        "\n",
        "f1 =f1_score(test_set_labels, test_predict_classes,average='macro')\n",
        "#print(f1)\n",
        "precision = precision_score(test_set_labels, test_predict_classes,average='macro')\n",
        "#print(precision)\n",
        "recall = recall_score(test_set_labels, test_predict_classes,average='macro')\n",
        "print(\"Accuracy: \",TP/len(test_predict_classes)*100)\n",
        "print(\"F1 Score: \",f1)\n",
        "print(\"Precision Score:\",precision)\n",
        "print(\"Recall Score:\",recall)\n",
        "print(\"True Positive: \", TP)\n",
        "\n"
      ]
    },
    {
      "cell_type": "markdown",
      "source": [
        "Confusion Matrix"
      ],
      "metadata": {
        "id": "R8_l11Z5nw5c"
      }
    },
    {
      "cell_type": "code",
      "execution_count": 103,
      "metadata": {
        "colab": {
          "base_uri": "https://localhost:8080/",
          "height": 355
        },
        "id": "5x2iLYQrjCIh",
        "outputId": "1f4ced30-9378-40c4-c938-03b88c380cee"
      },
      "outputs": [
        {
          "output_type": "stream",
          "name": "stderr",
          "text": [
            "/usr/local/lib/python3.7/dist-packages/sklearn/utils/deprecation.py:87: FutureWarning: Function plot_confusion_matrix is deprecated; Function `plot_confusion_matrix` is deprecated in 1.0 and will be removed in 1.2. Use one of the class methods: ConfusionMatrixDisplay.from_predictions or ConfusionMatrixDisplay.from_estimator.\n",
            "  warnings.warn(msg, category=FutureWarning)\n"
          ]
        },
        {
          "output_type": "execute_result",
          "data": {
            "text/plain": [
              "<sklearn.metrics._plot.confusion_matrix.ConfusionMatrixDisplay at 0x7fb17c0c9c50>"
            ]
          },
          "metadata": {},
          "execution_count": 103
        },
        {
          "output_type": "display_data",
          "data": {
            "text/plain": [
              "<Figure size 432x288 with 2 Axes>"
            ],
            "image/png": "[encoded data removed]"
          },
          "metadata": {
            "needs_background": "light"
          }
        }
      ],
      "source": [
        "import matplotlib.pyplot as plt\n",
        "from sklearn.datasets import make_classification\n",
        "from sklearn.metrics import plot_confusion_matrix\n",
        "import seaborn as sn\n",
        "plot_confusion_matrix(clf, test_features, test_set_labels) "
      ]
    },
    {
      "cell_type": "markdown",
      "metadata": {
        "id": "qxKbp0X_fw8M"
      },
      "source": [
        "## Qualitative Results"
      ]
    },
    {
      "cell_type": "code",
      "execution_count": 105,
      "metadata": {
        "colab": {
          "base_uri": "https://localhost:8080/",
          "height": 1000
        },
        "id": "dqhnySwMg-qN",
        "outputId": "00aa8fc9-560a-4106-f087-975e4d6860df"
      },
      "outputs": [
        {
          "output_type": "stream",
          "name": "stdout",
          "text": [
            "Correctly Classified Images\n",
            "Test Image: \n"
          ]
        },
        {
          "output_type": "display_data",
          "data": {
            "text/plain": [
              "<PIL.Image.Image image mode=L size=90x90 at 0x7FB17BF0F910>"
            ],
            "image/png": "[encoded data removed]"
          },
          "metadata": {}
        },
        {
          "output_type": "stream",
          "name": "stdout",
          "text": [
            "Test Label:  4\n",
            "---------------------\n",
            "Test Image: \n"
          ]
        },
        {
          "output_type": "display_data",
          "data": {
            "text/plain": [
              "<PIL.Image.Image image mode=L size=90x90 at 0x7FB17BF0B0D0>"
            ],
            "image/png": "[encoded data removed]"
          },
          "metadata": {}
        },
        {
          "output_type": "stream",
          "name": "stdout",
          "text": [
            "Test Label:  7\n",
            "---------------------\n",
            "Test Image: \n"
          ]
        },
        {
          "output_type": "display_data",
          "data": {
            "text/plain": [
              "<PIL.Image.Image image mode=L size=90x90 at 0x7FB17BF0B2D0>"
            ],
            "image/png": "[encoded data removed]"
          },
          "metadata": {}
        },
        {
          "output_type": "stream",
          "name": "stdout",
          "text": [
            "Test Label:  2\n",
            "---------------------\n",
            "Test Image: \n"
          ]
        },
        {
          "output_type": "display_data",
          "data": {
            "text/plain": [
              "<PIL.Image.Image image mode=L size=90x90 at 0x7FB17BF0B450>"
            ],
            "image/png": "[encoded data removed]"
          },
          "metadata": {}
        },
        {
          "output_type": "stream",
          "name": "stdout",
          "text": [
            "Test Label:  5\n",
            "---------------------\n",
            "Test Image: \n"
          ]
        },
        {
          "output_type": "display_data",
          "data": {
            "text/plain": [
              "<PIL.Image.Image image mode=L size=90x90 at 0x7FB17BF0B510>"
            ],
            "image/png": "[encoded data removed]"
          },
          "metadata": {}
        },
        {
          "output_type": "stream",
          "name": "stdout",
          "text": [
            "Test Label:  9\n",
            "---------------------\n",
            "Incorrectly Classified Image\n",
            "Test Image: \n"
          ]
        },
        {
          "output_type": "display_data",
          "data": {
            "text/plain": [
              "<PIL.Image.Image image mode=L size=90x90 at 0x7FB17BF0B710>"
            ],
            "image/png": "[encoded data removed]"
          },
          "metadata": {}
        },
        {
          "output_type": "stream",
          "name": "stdout",
          "text": [
            "Predicted Label:  1\n",
            "True Label:  7\n",
            "---------------------\n",
            "Test Image: \n"
          ]
        },
        {
          "output_type": "display_data",
          "data": {
            "text/plain": [
              "<PIL.Image.Image image mode=L size=90x90 at 0x7FB17BF0B8D0>"
            ],
            "image/png": "[encoded data removed]"
          },
          "metadata": {}
        },
        {
          "output_type": "stream",
          "name": "stdout",
          "text": [
            "Predicted Label:  6\n",
            "True Label:  7\n",
            "---------------------\n",
            "Test Image: \n"
          ]
        },
        {
          "output_type": "display_data",
          "data": {
            "text/plain": [
              "<PIL.Image.Image image mode=L size=90x90 at 0x7FB17C0C9250>"
            ],
            "image/png": "[encoded data removed]"
          },
          "metadata": {}
        },
        {
          "output_type": "stream",
          "name": "stdout",
          "text": [
            "Predicted Label:  7\n",
            "True Label:  6\n",
            "---------------------\n",
            "Test Image: \n"
          ]
        },
        {
          "output_type": "display_data",
          "data": {
            "text/plain": [
              "<PIL.Image.Image image mode=L size=90x90 at 0x7FB17C0C98D0>"
            ],
            "image/png": "[encoded data removed]"
          },
          "metadata": {}
        },
        {
          "output_type": "stream",
          "name": "stdout",
          "text": [
            "Predicted Label:  1\n",
            "True Label:  5\n",
            "---------------------\n",
            "Test Image: \n"
          ]
        },
        {
          "output_type": "display_data",
          "data": {
            "text/plain": [
              "<PIL.Image.Image image mode=L size=90x90 at 0x7FB17C0C9B90>"
            ],
            "image/png": "[encoded data removed]"
          },
          "metadata": {}
        },
        {
          "output_type": "stream",
          "name": "stdout",
          "text": [
            "Predicted Label:  7\n",
            "True Label:  1\n",
            "---------------------\n"
          ]
        }
      ],
      "source": [
        "print(\"Correctly Classified Images\")\n",
        "for i in range(0,len(correct_class_im),40):\n",
        "  print(\"Test Image: \")\n",
        "  cv2_imshow(correct_class_im[i])\n",
        "  print(\"Test Label: \",correct_class_labels[i])\n",
        "  print(\"---------------------\")\n",
        "\n",
        "print(\"Incorrectly Classified Image\")\n",
        "for i in range(0,len(test_images_misclassified),4):\n",
        "  print(\"Test Image: \")\n",
        "  cv2_imshow(test_images_misclassified[i])\n",
        "  print(\"Predicted Label: \",test_labels_misclassified[i])\n",
        "  print(\"True Label: \",actual_labels[i])\n",
        "  print(\"---------------------\")\n",
        "\n"
      ]
    },
    {
      "cell_type": "markdown",
      "metadata": {
        "id": "nsO0RHyvyvvU"
      },
      "source": [
        "# **Classification By Decision Trees Classifier with Fast and ORB for Feature Detection**"
      ]
    },
    {
      "cell_type": "code",
      "execution_count": 106,
      "metadata": {
        "colab": {
          "base_uri": "https://localhost:8080/"
        },
        "id": "tv64qm2CzPBN",
        "outputId": "6207afeb-10d4-4959-9277-292ee700ea2f"
      },
      "outputs": [
        {
          "output_type": "execute_result",
          "data": {
            "text/plain": [
              "DecisionTreeClassifier()"
            ]
          },
          "metadata": {},
          "execution_count": 106
        }
      ],
      "source": [
        "#Training the data on Decision Tree Classifier\n",
        "clf1 = DecisionTreeClassifier()\n",
        "clf1.fit(im_features,np.array(y_train))"
      ]
    },
    {
      "cell_type": "code",
      "execution_count": 107,
      "metadata": {
        "id": "nl5vHOsAzv17"
      },
      "outputs": [],
      "source": [
        "#Prediction by decision tree classifier\n",
        "test_predict_classes_dt=[]\n",
        "#running model on test features for predictions\n",
        "for i in clf1.predict(test_features):\n",
        "        test_predict_classes_dt.append(i)"
      ]
    },
    {
      "cell_type": "code",
      "execution_count": 108,
      "metadata": {
        "id": "s8Q8sNFo4_Ax"
      },
      "outputs": [],
      "source": [
        "#Evaluation Metrics for Decision Tree Classifier\n",
        "TP_dt=0\n",
        "test_images_misclassified_dt=[]\n",
        "test_labels_misclassified_dt=[]\n",
        "actual_labels_dt=[]\n",
        "correct_class_im_dt=[]\n",
        "correct_class_labels_dt=[]\n",
        "\n",
        "for i in range(0,len(test_predict_classes_dt)):\n",
        "  \n",
        "  if(test_set_labels[i]==test_predict_classes_dt[i]):\n",
        "    TP_dt+=1\n",
        "    correct_class_im_dt.append(test_im[i])\n",
        "    correct_class_labels_dt.append(test_predict_classes_dt[i])\n",
        "  else:\n",
        "    test_images_misclassified_dt.append(test_im[i])\n",
        "    test_labels_misclassified_dt.append(test_predict_classes_dt[i])\n",
        "    actual_labels_dt.append(test_set_labels[i])\n",
        "\n"
      ]
    },
    {
      "cell_type": "code",
      "execution_count": 109,
      "metadata": {
        "colab": {
          "base_uri": "https://localhost:8080/"
        },
        "id": "3JQn3KdN5pun",
        "outputId": "22756041-edaf-4f9e-9c11-04f3ca0257f1"
      },
      "outputs": [
        {
          "output_type": "stream",
          "name": "stdout",
          "text": [
            "Accuracy:  86.5\n",
            "F1 Score:  0.8673126571201026\n",
            "Precision Score: 0.8784632034632034\n",
            "Recall Score: 0.8649999999999999\n",
            "True Positive:  173\n"
          ]
        }
      ],
      "source": [
        "f1_dt =f1_score(test_set_labels, test_predict_classes_dt,average='macro')\n",
        "#print(f1)\n",
        "precision_dt = precision_score(test_set_labels, test_predict_classes_dt,average='macro')\n",
        "#print(precision)\n",
        "recall_dt = recall_score(test_set_labels, test_predict_classes_dt,average='macro')\n",
        "print(\"Accuracy: \",TP_dt/len(test_predict_classes_dt)*100)\n",
        "print(\"F1 Score: \",f1_dt)\n",
        "print(\"Precision Score:\",precision_dt)\n",
        "print(\"Recall Score:\",recall_dt)\n",
        "print(\"True Positive: \", TP_dt)\n",
        "\n"
      ]
    },
    {
      "cell_type": "code",
      "source": [
        "import matplotlib.pyplot as plt\n",
        "from sklearn.datasets import make_classification\n",
        "from sklearn.metrics import plot_confusion_matrix\n",
        "import seaborn as sn\n",
        "plot_confusion_matrix(clf1, test_features, test_set_labels) "
      ],
      "metadata": {
        "colab": {
          "base_uri": "https://localhost:8080/",
          "height": 355
        },
        "id": "E6fOx8_DoqZR",
        "outputId": "b684eeb5-9443-4256-efea-3eccd30ce97c"
      },
      "execution_count": 110,
      "outputs": [
        {
          "output_type": "stream",
          "name": "stderr",
          "text": [
            "/usr/local/lib/python3.7/dist-packages/sklearn/utils/deprecation.py:87: FutureWarning: Function plot_confusion_matrix is deprecated; Function `plot_confusion_matrix` is deprecated in 1.0 and will be removed in 1.2. Use one of the class methods: ConfusionMatrixDisplay.from_predictions or ConfusionMatrixDisplay.from_estimator.\n",
            "  warnings.warn(msg, category=FutureWarning)\n"
          ]
        },
        {
          "output_type": "execute_result",
          "data": {
            "text/plain": [
              "<sklearn.metrics._plot.confusion_matrix.ConfusionMatrixDisplay at 0x7fb17fb0f090>"
            ]
          },
          "metadata": {},
          "execution_count": 110
        },
        {
          "output_type": "display_data",
          "data": {
            "text/plain": [
              "<Figure size 432x288 with 2 Axes>"
            ],
            "image/png": "[encoded data removed]"
          },
          "metadata": {
            "needs_background": "light"
          }
        }
      ]
    },
    {
      "cell_type": "markdown",
      "metadata": {
        "id": "U2otUHX46hrJ"
      },
      "source": [
        "# **Classification By AdaBoost with Fast and ORB for Feature Detection**"
      ]
    },
    {
      "cell_type": "code",
      "execution_count": 111,
      "metadata": {
        "colab": {
          "base_uri": "https://localhost:8080/"
        },
        "id": "9vg6uv2F64yn",
        "outputId": "660f4200-78d4-4676-cfd6-1761259c0409"
      },
      "outputs": [
        {
          "output_type": "execute_result",
          "data": {
            "text/plain": [
              "AdaBoostClassifier()"
            ]
          },
          "metadata": {},
          "execution_count": 111
        }
      ],
      "source": [
        "#Training the dataset on AdaBoost Classifier\n",
        "clf2=AdaBoostClassifier()\n",
        "clf2.fit(im_features,np.array(y_train))"
      ]
    },
    {
      "cell_type": "code",
      "execution_count": 112,
      "metadata": {
        "id": "Wc4YmHns7J6o"
      },
      "outputs": [],
      "source": [
        "#Prediction by AdaBoost Classifier\n",
        "test_predict_classes_ada=[]\n",
        "#running model on test features for predictions\n",
        "for i in clf2.predict(test_features):\n",
        "        test_predict_classes_ada.append(i)"
      ]
    },
    {
      "cell_type": "code",
      "execution_count": 113,
      "metadata": {
        "id": "zSqb-TXO7caS"
      },
      "outputs": [],
      "source": [
        "#Evaluation Metrics for AdaBoost Classifier\n",
        "TP_ada=0\n",
        "test_images_misclassified_ada=[]\n",
        "test_labels_misclassified_ada=[]\n",
        "actual_labels_ada=[]\n",
        "correct_class_im_ada=[]\n",
        "correct_class_labels_ada=[]\n",
        "\n",
        "for i in range(0,len(test_predict_classes_ada)):\n",
        "  \n",
        "  if(test_set_labels[i]==test_predict_classes_ada[i]):\n",
        "    TP_ada+=1\n",
        "    correct_class_im_ada.append(test_im[i])\n",
        "    correct_class_labels_ada.append(test_predict_classes_ada[i])\n",
        "  else:\n",
        "    test_images_misclassified_ada.append(test_im[i])\n",
        "    test_labels_misclassified_ada.append(test_predict_classes_ada[i])\n",
        "    actual_labels_ada.append(test_set_labels[i])\n",
        "\n"
      ]
    },
    {
      "cell_type": "code",
      "execution_count": 114,
      "metadata": {
        "colab": {
          "base_uri": "https://localhost:8080/"
        },
        "id": "fI6VWOU29cog",
        "outputId": "2bf7c631-526d-4955-d80c-bf84971f01d6"
      },
      "outputs": [
        {
          "output_type": "stream",
          "name": "stdout",
          "text": [
            "Accuracy:  38.5\n",
            "F1 Score:  0.3121524128045867\n",
            "Precision Score: 0.30392123926838377\n",
            "Recall Score: 0.38499999999999995\n",
            "True Positive  77\n"
          ]
        },
        {
          "output_type": "stream",
          "name": "stderr",
          "text": [
            "/usr/local/lib/python3.7/dist-packages/sklearn/metrics/_classification.py:1318: UndefinedMetricWarning: Precision is ill-defined and being set to 0.0 in labels with no predicted samples. Use `zero_division` parameter to control this behavior.\n",
            "  _warn_prf(average, modifier, msg_start, len(result))\n"
          ]
        }
      ],
      "source": [
        "f1_ada =f1_score(test_set_labels, test_predict_classes_ada,average='macro')\n",
        "#print(f1)\n",
        "precision_ada = precision_score(test_set_labels, test_predict_classes_ada,average='macro')\n",
        "#print(precision)\n",
        "recall_ada = recall_score(test_set_labels, test_predict_classes_ada,average='macro')\n",
        "print(\"Accuracy: \",TP_ada/len(test_predict_classes_ada)*100)\n",
        "print(\"F1 Score: \",f1_ada)\n",
        "print(\"Precision Score:\",precision_ada)\n",
        "print(\"Recall Score:\",recall_ada)\n",
        "print(\"True Positive \", TP_ada)\n",
        "\n"
      ]
    },
    {
      "cell_type": "code",
      "source": [
        "import matplotlib.pyplot as plt\n",
        "from sklearn.datasets import make_classification\n",
        "from sklearn.metrics import plot_confusion_matrix\n",
        "import seaborn as sn\n",
        "plot_confusion_matrix(clf, test_features, test_set_labels) "
      ],
      "metadata": {
        "colab": {
          "base_uri": "https://localhost:8080/",
          "height": 355
        },
        "id": "dD6AYfFDo4LW",
        "outputId": "a9b7dcff-d41b-4366-d76a-08ef5822bf6a"
      },
      "execution_count": 115,
      "outputs": [
        {
          "output_type": "stream",
          "name": "stderr",
          "text": [
            "/usr/local/lib/python3.7/dist-packages/sklearn/utils/deprecation.py:87: FutureWarning: Function plot_confusion_matrix is deprecated; Function `plot_confusion_matrix` is deprecated in 1.0 and will be removed in 1.2. Use one of the class methods: ConfusionMatrixDisplay.from_predictions or ConfusionMatrixDisplay.from_estimator.\n",
            "  warnings.warn(msg, category=FutureWarning)\n"
          ]
        },
        {
          "output_type": "execute_result",
          "data": {
            "text/plain": [
              "<sklearn.metrics._plot.confusion_matrix.ConfusionMatrixDisplay at 0x7fb17bc26590>"
            ]
          },
          "metadata": {},
          "execution_count": 115
        },
        {
          "output_type": "display_data",
          "data": {
            "text/plain": [
              "<Figure size 432x288 with 2 Axes>"
            ],
            "image/png": "[encoded data removed]"
          },
          "metadata": {
            "needs_background": "light"
          }
        }
      ]
    },
    {
      "cell_type": "markdown",
      "source": [
        "**Feature Extraction using FAST+ORB and classification by SVM is our chosen model as it gives the highest quantitative scores**"
      ],
      "metadata": {
        "id": "6T38dhIqp_67"
      }
    },
    {
      "cell_type": "markdown",
      "metadata": {
        "id": "x-8Y2ph2-Oey"
      },
      "source": [
        "# **Using SIFT for Feature Detection and SVM for Classification**"
      ]
    },
    {
      "cell_type": "markdown",
      "metadata": {
        "id": "-nWoF4AU-kko"
      },
      "source": [
        "# **Training**\n",
        "SIFT for Feature Extraction"
      ]
    },
    {
      "cell_type": "code",
      "execution_count": 128,
      "metadata": {
        "colab": {
          "base_uri": "https://localhost:8080/"
        },
        "id": "W1nEGdNuZ4og",
        "outputId": "8e727abf-9c72-4c3c-9f58-571b1dfd97a8"
      },
      "outputs": [
        {
          "output_type": "stream",
          "name": "stdout",
          "text": [
            "800\n"
          ]
        }
      ],
      "source": [
        "#by using sift\n",
        "descriptors=[]\n",
        "keypoints=[]\n",
        "y_train=[]\n",
        "sift = cv2.xfeatures2d.SIFT_create()\n",
        "\n",
        "\n",
        "for i in range(0,len(train_im)):\n",
        "    #Using SIFT to extract key points\n",
        "    img=cv2.imread(train_read[0][i])\n",
        "    kp, des = sift.detectAndCompute(img, None)    \n",
        "    if(len(kp)!=0):\n",
        "      #append the descriptors to the descriptors list\n",
        "      descriptors.append(des)\n",
        "      #append the keypoints to the keypoint list\n",
        "      keypoints.append(kp)\n",
        "      y_train.append(train_read[1][i])\n",
        "\n",
        "print(len(y_train))"
      ]
    },
    {
      "cell_type": "code",
      "execution_count": 129,
      "metadata": {
        "colab": {
          "base_uri": "https://localhost:8080/"
        },
        "id": "q9Z0OcFcZ_sa",
        "outputId": "6a978912-fd24-46ca-e8b7-26017a2beaa4"
      },
      "outputs": [
        {
          "output_type": "stream",
          "name": "stdout",
          "text": [
            "800\n"
          ]
        }
      ],
      "source": [
        "#descriptor stacking\n",
        "ds=descriptors[0]\n",
        "for descriptor in descriptors[1:]:\n",
        "    ds=np.vstack((ds,descriptor))\n",
        "\n",
        "print(len(y_train))"
      ]
    },
    {
      "cell_type": "markdown",
      "metadata": {
        "id": "fQL_i1O9k7V7"
      },
      "source": [
        "Clustering using K-Means"
      ]
    },
    {
      "cell_type": "code",
      "execution_count": 130,
      "metadata": {
        "id": "_Uzx5zrdaCnm"
      },
      "outputs": [],
      "source": [
        "descriptors_float=ds.astype(float)\n",
        "#setting number of clusters=160\n",
        "k=160\n",
        "voc,variance=kmeans(descriptors_float,k,1)\n",
        "im_features=np.zeros((len(descriptors),k),\"float32\")\n",
        "for i in range(len(descriptors)):\n",
        "    words,distance=vq(descriptors[i],voc)\n",
        "    for w in words:\n",
        "        im_features[i][w]+=1"
      ]
    },
    {
      "cell_type": "code",
      "execution_count": 131,
      "metadata": {
        "colab": {
          "base_uri": "https://localhost:8080/"
        },
        "id": "iym2RDqJaIVz",
        "outputId": "baf28daf-c8b0-4236-f83e-661fbb84524b"
      },
      "outputs": [
        {
          "output_type": "execute_result",
          "data": {
            "text/plain": [
              "LinearSVC(max_iter=90000)"
            ]
          },
          "metadata": {},
          "execution_count": 131
        }
      ],
      "source": [
        "#fitting SVM Model on training dataset\n",
        "clf=LinearSVC(max_iter=90000)\n",
        "clf.fit(im_features,np.array(y_train))"
      ]
    },
    {
      "cell_type": "markdown",
      "source": [
        "# **Testing**"
      ],
      "metadata": {
        "id": "BB1y6GOclx_r"
      }
    },
    {
      "cell_type": "markdown",
      "source": [
        "Repeating the same pipeline for the test data"
      ],
      "metadata": {
        "id": "ziZzQ2eQl1Y5"
      }
    },
    {
      "cell_type": "code",
      "execution_count": 132,
      "metadata": {
        "colab": {
          "base_uri": "https://localhost:8080/"
        },
        "id": "lOmG2TTSaMrO",
        "outputId": "d53206a4-2c9c-4cc6-d8d0-4920aff01066"
      },
      "outputs": [
        {
          "output_type": "stream",
          "name": "stdout",
          "text": [
            "200\n"
          ]
        }
      ],
      "source": [
        "#by using sift\n",
        "des_test=[]\n",
        "keypoints_test=[]\n",
        "test_set_labels=[]\n",
        "sift = cv2.xfeatures2d.SIFT_create()\n",
        "\n",
        "\n",
        "for i in range(0,len(test_labels)):\n",
        "    #Using SIFT to extract key points\n",
        "    img=cv2.imread(test_read[0][i])\n",
        "    kp, des = sift.detectAndCompute(img, None)    \n",
        "    if(len(kp)!=0):\n",
        "      #append the descriptors to the descriptors list\n",
        "      des_test.append(des)\n",
        "      #append the keypoints to the keypoint list\n",
        "      keypoints_test.append(kp)\n",
        "      test_set_labels.append(test_labels[i])\n",
        "\n",
        "print(len(test_set_labels))"
      ]
    },
    {
      "cell_type": "code",
      "execution_count": 133,
      "metadata": {
        "id": "0Gi7uaQeaQmc"
      },
      "outputs": [],
      "source": [
        "test_ds=des_test[0]\n",
        "for descriptor in des_test[1:]:\n",
        "    test_ds=np.vstack((test_ds,descriptor))"
      ]
    },
    {
      "cell_type": "code",
      "execution_count": 134,
      "metadata": {
        "id": "YFgzRqwmaTCB"
      },
      "outputs": [],
      "source": [
        "testset_features=np.zeros((len(test_set_labels),k),\"float32\")\n",
        "for i in range(len(test_set_labels)):\n",
        "    words,distance=vq(des_test[i],voc)\n",
        "    for w in words:\n",
        "        testset_features[i][w]+=1"
      ]
    },
    {
      "cell_type": "code",
      "execution_count": 135,
      "metadata": {
        "id": "WZvAk6e1aVT4"
      },
      "outputs": [],
      "source": [
        "test_classes_predict=[]\n",
        "#Using the SVM model for prediction\n",
        "for i in clf.predict(testset_features):\n",
        "        test_classes_predict.append(i)\n",
        "        #print(test_classes_predict)"
      ]
    },
    {
      "cell_type": "markdown",
      "source": [
        "# **Quantitative Results**"
      ],
      "metadata": {
        "id": "so81Nv7VmIRy"
      }
    },
    {
      "cell_type": "code",
      "execution_count": 136,
      "metadata": {
        "id": "2lPv90xoaXTN"
      },
      "outputs": [],
      "source": [
        "TP=0\n",
        "incorrect_classified_images=[]\n",
        "incorrect_classified_labels=[]\n",
        "actual_labels=[]\n",
        "correct_class_images=[]\n",
        "correct_class_labels=[]\n",
        "\n"
      ]
    },
    {
      "cell_type": "code",
      "source": [
        "for i in range(0,len(test_classes_predict)):\n",
        "  if(test_set_labels[i]==test_classes_predict[i]):\n",
        "    TP+=1\n",
        "    correct_class_images.append(test_im[i])\n",
        "    correct_class_labels.append(test_classes_predict[i])\n",
        "  else:\n",
        "    incorrect_classified_images.append(test_classes_predict[i])\n",
        "    incorrect_classified_labels.append(test_classes_predict[i])\n",
        "    actual_labels.append(test_set_labels[i])\n"
      ],
      "metadata": {
        "id": "CvEU6B54mmX3"
      },
      "execution_count": 137,
      "outputs": []
    },
    {
      "cell_type": "markdown",
      "source": [
        "# **Quantitative Results**"
      ],
      "metadata": {
        "id": "khuOFuPamx3P"
      }
    },
    {
      "cell_type": "code",
      "execution_count": 138,
      "metadata": {
        "colab": {
          "base_uri": "https://localhost:8080/"
        },
        "id": "fmjyp0pOaaM0",
        "outputId": "6467f6b4-cf22-42bf-a83b-e2c8ac3b0806"
      },
      "outputs": [
        {
          "output_type": "stream",
          "name": "stdout",
          "text": [
            "Accuracy:  75.0\n",
            "F1 Score:  0.7527839139817034\n",
            "Precision Score: 0.7625133981198055\n",
            "Recall Score: 0.75\n",
            "True Positive  150\n"
          ]
        }
      ],
      "source": [
        "f1 =f1_score(test_set_labels, test_classes_predict,average='macro')\n",
        "#print(f1)\n",
        "precision = precision_score(test_set_labels, test_classes_predict,average='macro')\n",
        "#print(precision)\n",
        "recall = recall_score(test_set_labels, test_classes_predict,average='macro')\n",
        "print(\"Accuracy: \",TP/len(test_classes_predict)*100)\n",
        "print(\"F1 Score: \",f1)\n",
        "print(\"Precision Score:\",precision)\n",
        "print(\"Recall Score:\",recall)\n",
        "print(\"True Positive \", TP)\n",
        "\n",
        "\n"
      ]
    },
    {
      "cell_type": "markdown",
      "source": [
        "Confusion Matrix"
      ],
      "metadata": {
        "id": "u4LdlYAbm_vq"
      }
    },
    {
      "cell_type": "code",
      "execution_count": 139,
      "metadata": {
        "colab": {
          "base_uri": "https://localhost:8080/",
          "height": 355
        },
        "id": "iFYX8dUgf8ge",
        "outputId": "bcd55076-f9e4-4171-fd02-49862a305a36"
      },
      "outputs": [
        {
          "output_type": "stream",
          "name": "stderr",
          "text": [
            "/usr/local/lib/python3.7/dist-packages/sklearn/utils/deprecation.py:87: FutureWarning: Function plot_confusion_matrix is deprecated; Function `plot_confusion_matrix` is deprecated in 1.0 and will be removed in 1.2. Use one of the class methods: ConfusionMatrixDisplay.from_predictions or ConfusionMatrixDisplay.from_estimator.\n",
            "  warnings.warn(msg, category=FutureWarning)\n"
          ]
        },
        {
          "output_type": "execute_result",
          "data": {
            "text/plain": [
              "<sklearn.metrics._plot.confusion_matrix.ConfusionMatrixDisplay at 0x7fb17baf9210>"
            ]
          },
          "metadata": {},
          "execution_count": 139
        },
        {
          "output_type": "display_data",
          "data": {
            "text/plain": [
              "<Figure size 432x288 with 2 Axes>"
            ],
            "image/png": "[encoded data removed]"
          },
          "metadata": {
            "needs_background": "light"
          }
        }
      ],
      "source": [
        "import matplotlib.pyplot as plt\n",
        "from sklearn.datasets import make_classification\n",
        "from sklearn.metrics import plot_confusion_matrix\n",
        "import seaborn as sn\n",
        "plot_confusion_matrix(clf, testset_features, test_set_labels) "
      ]
    }
  ],
  "metadata": {
    "colab": {
      "collapsed_sections": [],
      "provenance": []
    },
    "kernelspec": {
      "display_name": "Python [conda env:myenv]",
      "language": "python",
      "name": "conda-env-myenv-py"
    },
    "language_info": {
      "codemirror_mode": {
        "name": "ipython",
        "version": 3
      },
      "file_extension": ".py",
      "mimetype": "text/x-python",
      "name": "python",
      "nbconvert_exporter": "python",
      "pygments_lexer": "ipython3",
      "version": "3.9.12"
    }
  },
  "nbformat": 4,
  "nbformat_minor": 0
}
